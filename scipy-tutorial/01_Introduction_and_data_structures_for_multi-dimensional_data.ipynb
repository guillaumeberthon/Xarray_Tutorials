{
 "cells": [
  {
   "cell_type": "markdown",
   "metadata": {},
   "source": [
    "# Introduction\n",
    "\n",
    "- Why xarray?\n",
    "  - numpy arrays are not enough\n",
    "  - names, labels, attributes"
   ]
  },
  {
   "cell_type": "markdown",
   "metadata": {},
   "source": [
    "# DataArray\n",
    "\n",
    "- attach labels, name and attribute to array\n",
    "- construction and repr\n",
    "  - numeric types (bool, int, float, complex)\n",
    "  - strings\n",
    "  - datetime / cftime\n",
    "  - object"
   ]
  },
  {
   "cell_type": "markdown",
   "metadata": {},
   "source": [
    "# Dataset\n",
    "\n",
    "- collection of multiple dataarrays\n",
    "- construction / repr"
   ]
  },
  {
   "cell_type": "markdown",
   "metadata": {},
   "source": [
    "# Roundtripping and I/O\n",
    "\n",
    "- numpy (to_array)\n",
    "- pandas (from_series/to_series, from/to dataframe)\n",
    "- dask (to_dask_dataframe)\n",
    "- dict (to_dict/from_dict)\n",
    "- iris (to_iris / from_iris)\n",
    "\n",
    "# I/O\n",
    "\n",
    "- netcdf / pseudonetcdf (open_dataset / open_mfdataset, to_netcdf / save_mfdataset)\n",
    "- zarr (open_zarr, to_zarr)\n",
    "- rasterio (open_rasterio)"
   ]
  }
 ],
 "metadata": {
  "kernelspec": {
   "display_name": "Python 3",
   "language": "python",
   "name": "python3"
  },
  "language_info": {
   "codemirror_mode": {
    "name": "ipython",
    "version": 3
   },
   "file_extension": ".py",
   "mimetype": "text/x-python",
   "name": "python",
   "nbconvert_exporter": "python",
   "pygments_lexer": "ipython3",
   "version": "3.8.2"
  }
 },
 "nbformat": 4,
 "nbformat_minor": 4
}
