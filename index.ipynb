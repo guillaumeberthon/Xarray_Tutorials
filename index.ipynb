{
 "cells": [
  {
   "cell_type": "markdown",
   "id": "6bad0788-4bd2-49bb-818a-4eda1e265cf1",
   "metadata": {},
   "source": [
    "<img src=\"http://xarray.pydata.org/en/stable/_static/dataset-diagram-logo.png\" align=\"right\" width=\"30%\">\n",
    "\n",
    "# Welcome to the Xarray Tutorial! \n",
    "\n",
    "## Notebook Index:\n",
    "---\n",
    "### Overview\n",
    "\n",
    "[Xarray in 45 Minutes!](overview/xarray-in-45-min.ipynb)\n",
    "\n",
    "### Fundamentals\n",
    "\n",
    "Under the `fundamentals/` folder you'll find notebooks focused on the following topics:\n",
    "\n",
    "- [Data structures and I/O](fundamentals/01_datastructures_and_io.ipynb)\n",
    "- [Labelled data](fundamentals/02.1_working_with_labeled_data.ipynb)\n",
    "    - [Manipulating dimensions](fundamentals/02.2_manipulating_dimensions.ipynb)\n",
    "    - [Alignment](fundamentals/02.3_aligning_data_objects.ipynb)\n",
    "- [Computation](fundamentals/03.1_computation_with_xarray.ipynb)\n",
    "    - [Groupby](fundamentals/03.2_groupby_with_xarray.ipynb)\n",
    "- Plotting\n",
    "    - [Basics](fundamentals/04.1_basic_plotting.ipynb)\n",
    "    - [Faceting](fundamentals/04.2_faceting.ipynb)\n",
    "    - [Geographic](fundamentals/04.3_geographic_plotting.ipynb)\n",
    "\n",
    "### Intermediate\n",
    "    \n",
    "Under the `indermediate/` folder you'll find the following notebooks:\n",
    "\n",
    "- [Computational patterns](intermediate/01-high-level-computation-patterns.ipynb)\n",
    "- [Distributed computing with dask](intermediate/xarray_and_dask.ipynb)\n",
    "- [Interactive visualizations](intermediate/hvplot.ipynb)\n",
    "\n",
    "### Advanced\n",
    "\n",
    "Under the `advanced/` folder you'll find the following notebooks:\n",
    "\n",
    "- [Interactive visualizations](advanced/parallelize-custom-functions.ipynb)\n",
    "\n",
    "### Workshops\n",
    "    \n",
    "Under the `workshops/` folder you'll find notebooks from specific events!"
   ]
  }
 ],
 "metadata": {
  "kernelspec": {
   "display_name": "Python 3 (ipykernel)",
   "language": "python",
   "name": "python3"
  },
  "language_info": {
   "codemirror_mode": {
    "name": "ipython",
    "version": 3
   },
   "file_extension": ".py",
   "mimetype": "text/x-python",
   "name": "python",
   "nbconvert_exporter": "python",
   "pygments_lexer": "ipython3",
   "version": "3.10.5"
  }
 },
 "nbformat": 4,
 "nbformat_minor": 5
}
