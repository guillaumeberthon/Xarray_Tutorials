{
 "cells": [
  {
   "cell_type": "markdown",
   "id": "7a8ff28a-4be3-469f-8cf4-9297e71cc4ca",
   "metadata": {},
   "source": [
    "<img src=\"http://xarray.pydata.org/en/stable/_static/dataset-diagram-logo.png\" align=\"right\" width=\"30%\">\n",
    "\n",
    "<a id='applymap'></a>\n",
    "\n",
    "# A gentle introduction\n",
    "\n",
    "## Setup"
   ]
  },
  {
   "cell_type": "code",
   "execution_count": null,
   "id": "32335e2d-9f8c-490d-a991-2bcabbdf3d16",
   "metadata": {},
   "outputs": [],
   "source": [
    "import numpy as np\n",
    "import xarray as xr"
   ]
  },
  {
   "cell_type": "markdown",
   "id": "564018be-0815-4996-a479-890e2f2a0ec3",
   "metadata": {},
   "source": [
    "First lets set up a `LocalCluster` using [dask.distributed](https://distributed.dask.org/).\n",
    "\n",
    "You can use any kind of dask cluster. This step is completely independent of\n",
    "xarray. While not strictly necessary, the dashboard provides a nice learning\n",
    "tool.\n"
   ]
  },
  {
   "cell_type": "code",
   "execution_count": null,
   "id": "8813a53f-fab8-43e8-9b3b-3b90dcc96ac2",
   "metadata": {},
   "outputs": [],
   "source": [
    "from dask.distributed import Client\n",
    "\n",
    "client = Client()\n",
    "client"
   ]
  },
  {
   "cell_type": "markdown",
   "id": "0137c60c-2ecf-4f04-94fa-42da68418791",
   "metadata": {},
   "source": [
    "<p>&#128070</p> Click the Dashboard link above. Or click the \"Search\" button in the dashboard.\n",
    "\n",
    "Let's test that the dashboard is working..\n"
   ]
  },
  {
   "cell_type": "code",
   "execution_count": null,
   "id": "e06e3696-3b26-4475-aa1a-4e4dc9c9f344",
   "metadata": {},
   "outputs": [],
   "source": [
    "import dask.array\n",
    "\n",
    "dask.array.ones((1000, 4), chunks=(2, 1)).compute()  # should see activity in dashboard"
   ]
  },
  {
   "cell_type": "markdown",
   "id": "e6abae80-004a-481f-9b1a-c476de951ef0",
   "metadata": {},
   "source": [
    "Let's load a dataset"
   ]
  },
  {
   "cell_type": "code",
   "execution_count": null,
   "id": "b74da273-e603-442f-9970-ef3eb17a3ad9",
   "metadata": {},
   "outputs": [],
   "source": [
    "ds = xr.tutorial.open_dataset(\n",
    "    \"air_temperature\",\n",
    "    chunks={  # this tells xarray to open the dataset as a dask array\n",
    "        \"lat\": 25,\n",
    "        \"lon\": 25,\n",
    "        \"time\": -1,\n",
    "    },\n",
    ")\n",
    "ds"
   ]
  },
  {
   "cell_type": "markdown",
   "id": "5cf98cf4-1d3f-4ef7-9dcb-f30ade01e458",
   "metadata": {},
   "source": [
    "## apply_ufunc\n",
    "\n",
    "`apply_ufunc` is a more advanced wrapper that is designed to apply functions\n",
    "that expect and return NumPy (or other arrays). For example, this would include\n",
    "all of SciPy's API. Since `apply_ufunc` operates on lower-level NumPy or Dask\n",
    "objects, it skips the overhead of using Xarray objects making it a good choice\n",
    "for performance-critical functions.\n",
    "\n",
    "`apply_ufunc` can be a little tricky to get right since it operates at a lower\n",
    "level than `map_blocks`. On the other hand, Xarray uses `apply_ufunc` internally\n",
    "to implement much of its API, meaning that it is quite powerful!\n"
   ]
  },
  {
   "cell_type": "markdown",
   "id": "a6b21b09-3ebb-4efb-9c57-44bf587ba92d",
   "metadata": {},
   "source": [
    "### A simple example\n",
    "\n",
    "Simple functions that act independently on each value should work without any\n",
    "additional arguments. However `dask` handling needs to be explicitly enabled\n"
   ]
  },
  {
   "cell_type": "code",
   "execution_count": null,
   "id": "26800228-97cc-4f35-baf8-a5face577543",
   "metadata": {
    "tags": [
     "raises-exception"
    ]
   },
   "outputs": [],
   "source": [
    "# Expect an error here\n",
    "\n",
    "squared_error = lambda x, y: (x - y) ** 2\n",
    "\n",
    "xr.apply_ufunc(squared_error, ds.air, 1)"
   ]
  },
  {
   "cell_type": "markdown",
   "id": "28f4f80d-37cf-416a-a32d-9186c8df5f2d",
   "metadata": {},
   "source": [
    "There are two options for the `dask` kwarg.\n",
    "\n",
    "1. `dask=\"allowed\"` Dask arrays are passed to the user function. This is a good\n",
    "   choice if your function can handle dask arrays and won't call compute\n",
    "   explicitly.\n",
    "2. `dask=\"parallelized\"`. This applies the user function over blocks of the dask\n",
    "   array using `dask.array.blockwise`. This is useful when your function cannot\n",
    "   handle dask arrays natively (e.g. scipy API).\n",
    "\n",
    "Since `squared_error` can handle dask arrays without computing them, we specify\n",
    "`dask=\"allowed\"`.\n"
   ]
  },
  {
   "cell_type": "code",
   "execution_count": null,
   "id": "4e0806da-b6ea-4618-8394-b2e888f4c556",
   "metadata": {},
   "outputs": [],
   "source": [
    "sqer = xr.apply_ufunc(\n",
    "    squared_error,\n",
    "    ds.air,\n",
    "    1,\n",
    "    dask=\"allowed\",\n",
    ")\n",
    "sqer  # dask-backed DataArray! with nice metadata!"
   ]
  },
  {
   "cell_type": "markdown",
   "id": "ce1b0d1c-8bf3-4ddb-aa5f-e2ca70415ad6",
   "metadata": {},
   "source": [
    "### A more complicated example with a dask-aware function\n",
    "\n",
    "For using more complex operations that consider some array values collectively,\n",
    "it’s important to understand the idea of **core dimensions** from NumPy’s\n",
    "generalized ufuncs. Core dimensions are defined as dimensions that should not be\n",
    "broadcast over. Usually, they correspond to the fundamental dimensions over\n",
    "which an operation is defined, e.g., the summed axis in `np.sum`. A good clue\n",
    "that core dimensions are needed is the presence of an `axis` argument on the\n",
    "corresponding NumPy function.\n",
    "\n",
    "With `apply_ufunc`, core dimensions are recognized by name, and then moved to\n",
    "the last dimension of any input arguments before applying the given function.\n",
    "This means that for functions that accept an `axis` argument, you usually need\n",
    "to set `axis=-1`\n",
    "\n",
    "Let's use `dask.array.mean` as an example of a function that can handle dask\n",
    "arrays and uses an `axis` kwarg\n"
   ]
  },
  {
   "cell_type": "code",
   "execution_count": null,
   "id": "447f79cd-8ee2-416f-9ebe-b1b4317583d0",
   "metadata": {},
   "outputs": [],
   "source": [
    "def time_mean(da):\n",
    "    return xr.apply_ufunc(\n",
    "        dask.array.mean,\n",
    "        da,\n",
    "        input_core_dims=[[\"time\"]],\n",
    "        dask=\"allowed\",\n",
    "        kwargs={\"axis\": -1},  # core dimensions are moved to the end\n",
    "    )\n",
    "\n",
    "\n",
    "time_mean(ds.air)"
   ]
  },
  {
   "cell_type": "code",
   "execution_count": null,
   "id": "6c343d01-cdf6-4e48-a349-606f06c4c251",
   "metadata": {},
   "outputs": [],
   "source": [
    "ds.air.mean(\"time\").identical(time_mean(ds.air))"
   ]
  },
  {
   "cell_type": "markdown",
   "id": "8abf7aa7-e1e6-4935-9d59-58d4f587135c",
   "metadata": {},
   "source": [
    "### Automatically parallelizing dask-unaware functions\n",
    "\n",
    "A very useful `apply_ufunc` feature is the ability to apply arbitrary functions\n",
    "in parallel to each block. This ability can be activated using\n",
    "`dask=\"parallelized\"`. Again xarray needs a lot of extra metadata, so depending\n",
    "on the function, extra arguments such as `output_dtypes` and `output_sizes` may\n",
    "be necessary.\n",
    "\n",
    "We will use `scipy.integrate.trapz` as an example of a function that cannot\n",
    "handle dask arrays and requires a core dimension.\n"
   ]
  },
  {
   "cell_type": "code",
   "execution_count": null,
   "id": "43a04e83-c061-4e14-80d9-b73d6c36981a",
   "metadata": {},
   "outputs": [],
   "source": [
    "import scipy as sp\n",
    "import scipy.integrate\n",
    "\n",
    "sp.integrate.trapz(ds.air.data)  # does NOT return a dask array"
   ]
  },
  {
   "cell_type": "markdown",
   "id": "f62f8f73-cd7f-45fe-b379-6e9b675d38a0",
   "metadata": {},
   "source": [
    "#### Exercise\n",
    "\n",
    "Use `apply_ufunc` to apply `sp.integrate.trapz` along the `time` axis so that\n",
    "you get a dask array returned. You will need to specify `dask=\"parallelized\"`\n",
    "and `output_dtypes` (a list of `dtypes` per returned variable).\n"
   ]
  },
  {
   "cell_type": "markdown",
   "id": "71492531-4eda-4c47-86e5-dad033c22751",
   "metadata": {},
   "source": [
    "## More\n",
    "\n",
    "1. https://xarray.pydata.org/en/stable/examples/apply_ufunc_vectorize_1d.html#\n",
    "2. https://docs.dask.org/en/latest/array-best-practices.html\n"
   ]
  },
  {
   "cell_type": "code",
   "execution_count": null,
   "id": "6b375c8a-b7ef-47a6-b007-1fc2f34a2cf5",
   "metadata": {},
   "outputs": [],
   "source": [
    "client.close()"
   ]
  }
 ],
 "metadata": {
  "language_info": {
   "codemirror_mode": {
    "name": "ipython",
    "version": 3
   },
   "file_extension": ".py",
   "mimetype": "text/x-python",
   "name": "python",
   "nbconvert_exporter": "python",
   "pygments_lexer": "ipython3"
  }
 },
 "nbformat": 4,
 "nbformat_minor": 5
}
