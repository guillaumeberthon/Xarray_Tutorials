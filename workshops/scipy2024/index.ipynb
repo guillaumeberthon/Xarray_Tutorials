{
 "cells": [
  {
   "cell_type": "markdown",
   "id": "0",
   "metadata": {},
   "source": [
    "<img src=\"../../images/scipy2024.png\" align=\"right\" width=\"20%\">\n",
    "\n",
    "\n",
    "# Welcome to the Xarray SciPy 2024 Tutorial! \n",
    "\n",
    "**Xarray**: *Friendly, Interactive, and Scalable Scientific Data Analysis*\n",
    "\n",
    "July 8, 13:30–17:30 (US/Pacific), Room 317\n",
    "\n",
    "This *4-hour* workshop will explore content from [the Xarray tutorial](https://tutorial.xarray.dev), which contains a comprehensive collection of hands-on tutorial Jupyter Notebooks. We will review a curated set of examples that will prepare you for increasingly complex real-world data analysis tasks!\n",
    "\n",
    "## Learning Goals\n",
    "\n",
    "- Orient yourself to Xarray resources to continue on your Xarray journey!\n",
    "- Effectively use Xarray’s multidimensional indexing and computational patterns\n",
    "- Understand how Xarray can wrap other array types in the scientific Python ecosystem\n",
    "- Learn how to leverage Xarray’s powerful backend and extension capabilities to customize workflows and open a variety of scientific datasets\n",
    "\n",
    "\n",
    "## Schedule \n",
    "\n",
    "*Times in US/Pacific Timezone (Tacoma, WA)\n",
    "\n",
    "Use the links to navigate to the right notebooks.\n",
    "\n",
    "| Topic | Time | Notebook Links | \n",
    "| :- | - | - | \n",
    "| Introduction and Setup | 1:30 (10 min) | [Setup](./README.md) | \n",
    "| Xarray Data Model, Backends, Extensions | 1:40 (40 min) | [Quick Introduction to Indexing](../../fundamentals/02.1_indexing_Basic.ipynb) <br> [Boolean Indexing & Masking](../../intermediate/indexing/boolean-masking-indexing.ipynb) | \n",
    "| *10 minute Break*  \n",
    "| Computational Patterns | 2:30 (50 min) | [Advanced Indexing](intermediate/indexing/advanced-indexing.ipynb) <br> [Computation Patterns](../../intermediate/01-high-level-computation-patterns.ipynb) <br>  |  \n",
    "| *10 minute Break*  | \n",
    "| Wrapping other arrays | 3:30 (50 min) | [The Xarray Ecosystem](../../intermediate/xarray_ecosystem.ipynb) <br> [Accessors](../../advanced/accessors/01_accessor_examples.ipynb) <br> [Backends](../../advanced/backends/1.Backend_without_Lazy_Loading.ipynb) <br>   |  \n",
    "| *10 minute Break*  | \n",
    "| Synthesis, Explore your data! | 4:30 (50 min) <br>  | [Data Tidying](../../intermediate/data_cleaning/05.1_intro.html) <br> |\n",
    "| | End 5:30 | |\n",
    "\n",
    "\n",
    "## Thanks for attending!\n",
    "\n",
    "Please continue to explore the subfolders in the JupyterLab File Browser for additional tutorial notebooks to run, or read the rendered notebooks at [https://tutorial.xarray.dev](https://tutorial.xarray.dev)\n",
    "\n",
    "### SciPy 2024 Organized by:\n",
    "\n",
    "- Scott Henderson (Univ. Washington)\n",
    "- Jessica Scheick (Univ. New Hampshire)\n",
    "- Negin Sobhani (National Center for Atmospheric Research)\n",
    "- Tom Nicholas [C]worthy\n",
    "- Max Jones (CarbonPlan)\n",
    "- Wietze Suijker (Space Intelligence)"
   ]
  },
  {
   "cell_type": "markdown",
   "id": "1",
   "metadata": {},
   "source": []
  }
 ],
 "metadata": {
  "language_info": {
   "codemirror_mode": {
    "name": "ipython",
    "version": 3
   },
   "file_extension": ".py",
   "mimetype": "text/x-python",
   "name": "python",
   "nbconvert_exporter": "python",
   "pygments_lexer": "ipython3"
  }
 },
 "nbformat": 4,
 "nbformat_minor": 5
}
