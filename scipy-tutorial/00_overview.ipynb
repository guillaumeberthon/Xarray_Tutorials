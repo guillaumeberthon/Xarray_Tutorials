{
 "cells": [
  {
   "cell_type": "markdown",
   "metadata": {},
   "source": [
    "<img src=\"http://xarray.pydata.org/en/stable/_static/dataset-diagram-logo.png\" align=\"right\" width=\"30%\">\n",
    "\n",
    "# Introduction\n",
    "\n",
    "Welcome to the Xarray Tutorial.\n",
    "\n",
    "Xarray is an open source project and Python package that makes working with labelled multi-dimensional arrays simple, efficient, and fun!\n",
    "\n",
    "Xarray introduces labels in the form of dimensions, coordinates and attributes on top of raw [NumPy](https://numpy.org/)-like arrays, which allows for a more intuitive, more concise, and less error-prone developer experience. The package includes a large and growing library of domain-agnostic functions for advanced analytics and visualization with these data structures.\n",
    "\n",
    "Xarray is inspired by and borrows heavily from [pandas](https://pandas.pydata.org/), the popular data analysis package focused on labelled tabular data. It is particularly tailored to working with [netCDF files](http://www.unidata.ucar.edu/software/netcdf), which were the source of xarray’s data model, and integrates tightly with [Dask](http://dask.org/) for parallel computing.\n",
    "\n",
    "## Tutorial Setup\n",
    "\n",
    "This tutorial is designed to run on [Binder](https://mybinder.org/). This will allow you to run the turoial in the cloud without any additional setup. To get started, simply click [here](https://mybinder.org/v2/gh/xarray-contrib/xarray-tutorial/master?urlpath=lab): [![Binder](https://mybinder.org/badge_logo.svg)](https://mybinder.org/v2/gh/xarray-contrib/xarray-tutorial/master)\n",
    "\n",
    "If you choose to install the tutorial locally, follow these steps:\n",
    "\n",
    "1. Clone the repository:\n",
    "    \n",
    "    ```\n",
    "    git clone https://github.com/xarray-contrib/xarray-tutorial.git\n",
    "    ```\n",
    "\n",
    "1. Install the environment. The repository includes an `environment.yaml` in the `.binder` subdirectory that contains a list of all the packages needed to run this tutorial. To install them using conda run:\n",
    "    \n",
    "    ```\n",
    "    conda env create -f .binder/environment.yaml\n",
    "    conda activate xarray-tutorial\n",
    "    ```\n",
    "\n",
    "1. Start a Jupyter session:\n",
    "    \n",
    "    ```\n",
    "    jupyter lab\n",
    "    ```\n",
    "\n",
    "\n",
    "## Useful links\n",
    "\n",
    "1. References\n",
    "  - [Documentation](http://xarray.pydata.org/en/stable/)\n",
    "  - [Code Repository](https://github.com/pydata/xarray)\n",
    "1. Ask for help:\n",
    "  - Use the [python-xarray](https://stackoverflow.com/questions/tagged/python-xarray) on StackOverflow\n",
    "  - [GitHub Issues](https://github.com/pydata/xarray/issues) for bug reports and feature requests\n",
    "  \n",
    "\n",
    "## Tutorial Structure\n",
    "\n",
    "This tutorial is made up of multiple Jupyter Notebooks. These notebooks mix code, text, visualization, and exercises.\n",
    "\n",
    "If you haven't used Jupyterlab, it's similar to the Jupyter Notebook. If you haven't used the Notebook, the quick intro is\n",
    "\n",
    "1. There are two modes: command and edit\n",
    "1. From command mode, press Enter to edit a cell (like this markdown cell)\n",
    "1. From edit mode, press Esc to change to command mode\n",
    "1. Press shift+enter to execute a cell and move to the next cell.\n",
    "1. The toolbar has commands for executing, converting, and creating cells.\n",
    "\n",
    "The layout of the tutorial will be as follows:\n",
    "\n",
    "1. [Introduction + Data structures for multi-dimensional data](./01_datastructures_and_io.ipynb)\n",
    "1. [Working with labeled data](02_working_with_labeled_data.ipynb)\n",
    "1. [Computation with Xarray](03_computation_with_xarray.ipynb)\n",
    "1. [Plotting and Visualization](04_plotting_and_visualization.ipynb)\n",
    "1. [Introduction to Dask](04_plotting_and_visualization.ipynb)\n",
    "1. [Dask and Xarray](05_dask_and_xarray.ipynb)\n",
    "1. [Self-guided exercises]()\n",
    "\n",
    "## Exercise: Print Hello, world!\n",
    "Each notebook will have exercises for you to solve. You'll be given a blank or partially completed cell, followed by a hidden cell with a solution. For example.\n",
    "\n",
    "Print the text \"Hello, world!\"."
   ]
  },
  {
   "cell_type": "code",
   "execution_count": null,
   "metadata": {},
   "outputs": [],
   "source": [
    "# Your code here"
   ]
  },
  {
   "cell_type": "markdown",
   "metadata": {},
   "source": [
    "The next cell has the solution. Click the ellipses to expand the solution, and always make sure to run the solution cell, in case later sections of the notebook depend on the output from the solution."
   ]
  },
  {
   "cell_type": "code",
   "execution_count": null,
   "metadata": {},
   "outputs": [],
   "source": [
    "print(\"Hello, world!\")"
   ]
  }
 ],
 "metadata": {
  "kernelspec": {
   "display_name": "Python 3",
   "language": "python",
   "name": "python3"
  },
  "language_info": {
   "codemirror_mode": {
    "name": "ipython",
    "version": 3
   },
   "file_extension": ".py",
   "mimetype": "text/x-python",
   "name": "python",
   "nbconvert_exporter": "python",
   "pygments_lexer": "ipython3",
   "version": "3.8.2"
  }
 },
 "nbformat": 4,
 "nbformat_minor": 4
}
