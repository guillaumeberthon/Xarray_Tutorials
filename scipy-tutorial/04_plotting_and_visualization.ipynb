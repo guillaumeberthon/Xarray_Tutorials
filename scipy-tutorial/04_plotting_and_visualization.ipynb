{
 "cells": [
  {
   "cell_type": "markdown",
   "metadata": {
    "toc": true
   },
   "source": [
    "<img src=\"http://xarray.pydata.org/en/stable/_static/dataset-diagram-logo.png\" align=\"right\" width=\"30%\">\n",
    "\n",
    "# Plotting and Visualization\n",
    "\n",
    "<h2>Table of Contents<span class=\"tocSkip\"></span></h2>\n",
    "<div class=\"toc\"><ul class=\"toc-item\"><li><span><a href=\"#Load-data\" data-toc-modified-id=\"Load-data-1\"><span class=\"toc-item-num\">1&nbsp;&nbsp;</span>Load data</a></span></li><li><span><a href=\"#Basic-plotting\" data-toc-modified-id=\"Basic-plotting-2\"><span class=\"toc-item-num\">2&nbsp;&nbsp;</span>Basic plotting</a></span><ul class=\"toc-item\"><li><ul class=\"toc-item\"><li><span><a href=\"#Exercise\" data-toc-modified-id=\"Exercise-2.0.1\"><span class=\"toc-item-num\">2.0.1&nbsp;&nbsp;</span>Exercise</a></span></li></ul></li></ul></li><li><span><a href=\"#2D-plots\" data-toc-modified-id=\"2D-plots-3\"><span class=\"toc-item-num\">3&nbsp;&nbsp;</span>2D plots</a></span><ul class=\"toc-item\"><li><ul class=\"toc-item\"><li><span><a href=\"#Exercise\" data-toc-modified-id=\"Exercise-3.0.1\"><span class=\"toc-item-num\">3.0.1&nbsp;&nbsp;</span>Exercise</a></span></li></ul></li></ul></li><li><span><a href=\"#1D-line-plots\" data-toc-modified-id=\"1D-line-plots-4\"><span class=\"toc-item-num\">4&nbsp;&nbsp;</span>1D line plots</a></span></li><li><span><a href=\"#Customization\" data-toc-modified-id=\"Customization-5\"><span class=\"toc-item-num\">5&nbsp;&nbsp;</span>Customization</a></span></li><li><span><a href=\"#Faceting\" data-toc-modified-id=\"Faceting-6\"><span class=\"toc-item-num\">6&nbsp;&nbsp;</span>Faceting</a></span><ul class=\"toc-item\"><li><ul class=\"toc-item\"><li><span><a href=\"#Exercise\" data-toc-modified-id=\"Exercise-6.0.1\"><span class=\"toc-item-num\">6.0.1&nbsp;&nbsp;</span>Exercise</a></span></li></ul></li><li><span><a href=\"#Faceting-tip-1:-Use-faceting-to-plot-multiple-DataArrays\" data-toc-modified-id=\"Faceting-tip-1:-Use-faceting-to-plot-multiple-DataArrays-6.1\"><span class=\"toc-item-num\">6.1&nbsp;&nbsp;</span>Faceting tip 1: Use faceting to plot multiple DataArrays</a></span></li><li><span><a href=\"#Faceting-tip-2:-Modifying-all-facets-of-a-plot\" data-toc-modified-id=\"Faceting-tip-2:-Modifying-all-facets-of-a-plot-6.2\"><span class=\"toc-item-num\">6.2&nbsp;&nbsp;</span>Faceting tip 2: Modifying all facets of a plot</a></span></li></ul></li><li><span><a href=\"#Interactive-bokeh-plots-using-hvplot\" data-toc-modified-id=\"Interactive-bokeh-plots-using-hvplot-7\"><span class=\"toc-item-num\">7&nbsp;&nbsp;</span>Interactive bokeh plots using hvplot</a></span><ul class=\"toc-item\"><li><span><a href=\"#hvplot-makes-the-same-default-choices-as-xarray\" data-toc-modified-id=\"hvplot-makes-the-same-default-choices-as-xarray-7.1\"><span class=\"toc-item-num\">7.1&nbsp;&nbsp;</span><code>hvplot</code> makes the same default choices as xarray</a></span></li><li><span><a href=\"#Interactivity\" data-toc-modified-id=\"Interactivity-7.2\"><span class=\"toc-item-num\">7.2&nbsp;&nbsp;</span>Interactivity</a></span></li></ul></li><li><span><a href=\"#Geography\" data-toc-modified-id=\"Geography-8\"><span class=\"toc-item-num\">8&nbsp;&nbsp;</span>Geography</a></span><ul class=\"toc-item\"><li><span><a href=\"#matplotlib-and-cartopy\" data-toc-modified-id=\"matplotlib-and-cartopy-8.1\"><span class=\"toc-item-num\">8.1&nbsp;&nbsp;</span>matplotlib and cartopy</a></span><ul class=\"toc-item\"><li><span><a href=\"#Faceting-maps\" data-toc-modified-id=\"Faceting-maps-8.1.1\"><span class=\"toc-item-num\">8.1.1&nbsp;&nbsp;</span>Faceting maps</a></span></li></ul></li><li><span><a href=\"#hvplot\" data-toc-modified-id=\"hvplot-8.2\"><span class=\"toc-item-num\">8.2&nbsp;&nbsp;</span>hvplot</a></span></li></ul></li><li><span><a href=\"#More-resources\" data-toc-modified-id=\"More-resources-9\"><span class=\"toc-item-num\">9&nbsp;&nbsp;</span>More resources</a></span></li></ul></div>\n"
   ]
  },
  {
   "cell_type": "code",
   "execution_count": null,
   "metadata": {
    "ExecuteTime": {
     "end_time": "2020-06-11T02:27:32.419178Z",
     "start_time": "2020-06-11T02:27:30.533425Z"
    }
   },
   "outputs": [],
   "source": [
    "import matplotlib as mpl\n",
    "import matplotlib.pyplot as plt\n",
    "import numpy as np\n",
    "import xarray as xr"
   ]
  },
  {
   "cell_type": "code",
   "execution_count": null,
   "metadata": {
    "ExecuteTime": {
     "end_time": "2020-06-11T02:27:32.437582Z",
     "start_time": "2020-06-11T02:27:32.421755Z"
    }
   },
   "outputs": [],
   "source": [
    "xr.set_options(display_style=\"html\")"
   ]
  },
  {
   "cell_type": "markdown",
   "metadata": {},
   "source": [
    "## Load data\n",
    "\n",
    "First lets load up a tutorial dataset to visualize.\n"
   ]
  },
  {
   "cell_type": "code",
   "execution_count": null,
   "metadata": {
    "ExecuteTime": {
     "end_time": "2020-06-11T02:27:37.555998Z",
     "start_time": "2020-06-11T02:27:37.357785Z"
    }
   },
   "outputs": [],
   "source": [
    "ds = xr.tutorial.open_dataset(\"air_temperature.nc\").rename({\"air\": \"Tair\"})\n",
    "\n",
    "# we will add a gradient field with appropriate attributes\n",
    "ds[\"dTdx\"] = ds.Tair.differentiate(\"lon\") / 110e3 / np.cos(ds.lat * np.pi / 180)\n",
    "ds[\"dTdy\"] = ds.Tair.differentiate(\"lat\") / 105e3\n",
    "ds.dTdx.attrs = {\"long_name\": \"$∂T/∂x$\", \"units\": \"°C/m\"}\n",
    "ds.dTdy.attrs = {\"long_name\": \"$∂T/∂y$\", \"units\": \"°C/m\"}\n",
    "\n",
    "ds"
   ]
  },
  {
   "cell_type": "markdown",
   "metadata": {},
   "source": [
    "This dataset has three \"data variables\", `Tair` is air temperature and `dTdx`\n",
    "and `dTdy` are horizontal gradients of this temperature field. All three \"data\n",
    "variables\" are three-dimensional with dimensions `(time, lat, lon)`.\n"
   ]
  },
  {
   "cell_type": "markdown",
   "metadata": {},
   "source": [
    "## Basic plotting\n",
    "\n",
    "DataArray objects have a `plot` method that wraps `matplotlib`. So all of your\n",
    "existing matplotlib knowledge carries over!\n",
    "\n",
    "By default `.plot()` makes\n",
    "\n",
    "1. a line plot for 1-D arrays using `plt.plot()`\n",
    "2. a `pcolormesh` plot for 2-D arrays using `plt.pcolormesh()`\n",
    "3. a histogram for everything else using `plt.hist()`\n"
   ]
  },
  {
   "cell_type": "code",
   "execution_count": null,
   "metadata": {
    "ExecuteTime": {
     "end_time": "2020-05-30T13:15:04.121767Z",
     "start_time": "2020-05-30T13:15:03.884190Z"
    }
   },
   "outputs": [],
   "source": [
    "ds.Tair.plot()"
   ]
  },
  {
   "cell_type": "markdown",
   "metadata": {},
   "source": [
    "`Tair` is three-dimensional, so we got a histogram of temperature values. Notice\n",
    "the label on the x-axis. One of xarray's convenient plotting features is that it\n",
    "uses the `attrs` of `Tair` to nicely label axes and colorbars.\n",
    "\n",
    "You can pass extra arguments to the underlying `hist()` call. See the matplotlib\n",
    "docs (https://matplotlib.org/3.2.1/api/_as_gen/matplotlib.pyplot.hist.html) for\n",
    "all possible keyword arguments.\n",
    "\n",
    "### Exercise\n",
    "\n",
    "Update the above plot to show 50 bins with unfilled steps instead of filled\n",
    "bars.\n"
   ]
  },
  {
   "cell_type": "markdown",
   "metadata": {},
   "source": [
    "## 2D plots\n",
    "\n",
    "Now we will explore 2D plots. Let's select a single timestep of `Tair` to\n",
    "visualize.\n"
   ]
  },
  {
   "cell_type": "code",
   "execution_count": null,
   "metadata": {
    "ExecuteTime": {
     "end_time": "2020-05-30T13:15:04.364426Z",
     "start_time": "2020-05-30T13:15:04.124100Z"
    }
   },
   "outputs": [],
   "source": [
    "ds.Tair.isel(time=1).plot()"
   ]
  },
  {
   "cell_type": "markdown",
   "metadata": {},
   "source": [
    "Notice how much information is on that plot!\n",
    "\n",
    "The x- and y-axes are labeled with full names — \"Latitude\", \"Longitude\" — along\n",
    "with units. The colorbar has a nice label, again with units. And the title tells\n",
    "us the timestamp of the data presented.\n",
    "\n",
    "`plot` takes many keyword arguments and is quite sophisticated (see\n",
    "https://xarray-keewis.readthedocs.io/en/accessor-documentation/generated/xarray.DataArray.plot.pcolormesh.html).\n",
    "\n",
    "Here is a more complicated figure that explicitly sets `time` as the x-axis,\n",
    "customizes the colorbar, and overlays two contours at specific levels.\n",
    "\n",
    "_Note: Other options for 2D plots include `.plot.contour`, `.plot.contourf`,\n",
    "`.plot.imshow`_\n"
   ]
  },
  {
   "cell_type": "code",
   "execution_count": null,
   "metadata": {
    "ExecuteTime": {
     "end_time": "2020-06-11T02:52:00.680192Z",
     "start_time": "2020-06-11T02:52:00.365423Z"
    }
   },
   "outputs": [],
   "source": [
    "ds.Tair.isel(lon=1).plot(\n",
    "    x=\"time\",  # coordinate to plot on the x-axis of the plot\n",
    "    robust=True,  # set colorbar limits to 2nd and 98th percentile of data\n",
    "    cbar_kwargs={\n",
    "        \"orientation\": \"horizontal\",\n",
    "        \"label\": \"custom label\",\n",
    "        \"pad\": 0.2,\n",
    "    },  # passed to plt.colorbar\n",
    ")\n",
    "\n",
    "# now we can overlay a contour plot\n",
    "ds.Tair.isel(lon=1).plot.contour(\n",
    "    x=\"time\",  # coordinate to plot on the x-axis of the plot\n",
    "    robust=True,  # set colorbar limits to 2nd and 98th percentile of data\n",
    "    colors=\"k\",\n",
    "    levels=[260, 290],\n",
    "    linewidths=0.5,\n",
    ")"
   ]
  },
  {
   "cell_type": "markdown",
   "metadata": {},
   "source": [
    "### Exercise\n",
    "\n",
    "Update the above plot to use a different matplotlib colormap.\n"
   ]
  },
  {
   "cell_type": "markdown",
   "metadata": {},
   "source": [
    "## 1D line plots\n",
    "\n",
    "xarray is also able to plot lines by wrapping `plt.plot()`. As in the earlier\n",
    "examples, the axes are labelled and keyword arguments can be passed to the\n",
    "underlying `matplotlib` call.\n"
   ]
  },
  {
   "cell_type": "code",
   "execution_count": null,
   "metadata": {
    "ExecuteTime": {
     "end_time": "2020-06-11T02:49:58.450746Z",
     "start_time": "2020-06-11T02:49:58.282708Z"
    }
   },
   "outputs": [],
   "source": [
    "ds.Tair.isel(time=1, lon=10).plot(marker=\"o\")"
   ]
  },
  {
   "cell_type": "markdown",
   "metadata": {},
   "source": [
    "Lets say we want to compare line plots of temperature at three different\n",
    "latitudes. We can use the `hue` kwarg to do this.\n"
   ]
  },
  {
   "cell_type": "code",
   "execution_count": null,
   "metadata": {
    "ExecuteTime": {
     "end_time": "2020-06-11T02:55:01.478139Z",
     "start_time": "2020-06-11T02:55:01.290510Z"
    }
   },
   "outputs": [],
   "source": [
    "ds.Tair.isel(time=1).sel(lat=[40, 50, 60], method=\"nearest\").plot(\n",
    "    x=\"lon\", hue=\"lat\"\n",
    ")"
   ]
  },
  {
   "cell_type": "markdown",
   "metadata": {},
   "source": [
    "## Customization\n",
    "\n",
    "All of xarray's plotting functions take an large list kwargs that customize\n",
    "behaviour. A full list can be seen here:\n",
    "https://xarray.pydata.org/en/stable/generated/xarray.plot.pcolormesh.html. That\n",
    "said xarray does not wrap all matplotlib functionality.\n",
    "\n",
    "The general strategy for making plots that are more complicated that the\n",
    "examples above is\n",
    "\n",
    "1. Create a matplotlib axis `ax`\n",
    "2. Use xarray to make a close approximation of the final plot specifying\n",
    "   `ax=ax`.\n",
    "3. Use `ax` methods to fully customize the plot\n"
   ]
  },
  {
   "cell_type": "markdown",
   "metadata": {},
   "source": [
    "## Faceting\n",
    "\n",
    "Faceting is the art of presenting \"small multiples\" of the data. It is an\n",
    "effective way of visualizing variations of 3D data where 2D slices are\n",
    "visualized in a panel and the third dimensions is varied between panels.\n",
    "\n",
    "Here is where xarray really augments matplotlibs functionaity. We will use\n",
    "monthly means to illustrate\n"
   ]
  },
  {
   "cell_type": "code",
   "execution_count": null,
   "metadata": {
    "ExecuteTime": {
     "end_time": "2020-06-11T03:00:50.654212Z",
     "start_time": "2020-06-11T03:00:50.534996Z"
    }
   },
   "outputs": [],
   "source": [
    "# This is a bad estimate that does not take into account the fact that months have different number of days.\n",
    "monthly_means = ds.groupby(\"time.month\").mean()\n",
    "monthly_means"
   ]
  },
  {
   "cell_type": "code",
   "execution_count": null,
   "metadata": {
    "ExecuteTime": {
     "end_time": "2020-06-11T03:01:46.967960Z",
     "start_time": "2020-06-11T03:01:46.940669Z"
    }
   },
   "outputs": [],
   "source": [
    "# xarray's groupby reductions drop attributes. Let's assign them back so we get nice labels.\n",
    "monthly_means.Tair.attrs = ds.Tair.attrs"
   ]
  },
  {
   "cell_type": "markdown",
   "metadata": {},
   "source": [
    "Note that the dimensions are now `month, lat, lon`.\n",
    "\n",
    "We want to visualize how the monthly mean air temperature varies with month of\n",
    "the year.\n",
    "\n",
    "The simplest way to facet is to specify the `row` or `col` kwargs which are\n",
    "expected to be a dimension name. Here we use `month` so that each panel or\n",
    "\"facet\" of the plot presents the mean temperature field in a given month. Since\n",
    "a 12 column plot would be too small to interpret, we can \"wrap\" the facets into\n",
    "multiple rows using `col_wrap`\n"
   ]
  },
  {
   "cell_type": "code",
   "execution_count": null,
   "metadata": {
    "ExecuteTime": {
     "end_time": "2020-06-11T03:01:53.163195Z",
     "start_time": "2020-06-11T03:01:51.194451Z"
    }
   },
   "outputs": [],
   "source": [
    "fg = monthly_means.Tair.plot(\n",
    "    col=\"month\", col_wrap=4,  # TODO: try commenting this line out\n",
    ")"
   ]
  },
  {
   "cell_type": "markdown",
   "metadata": {},
   "source": [
    "All the usual customizations are possible\n"
   ]
  },
  {
   "cell_type": "code",
   "execution_count": null,
   "metadata": {
    "ExecuteTime": {
     "end_time": "2020-06-11T03:02:02.757064Z",
     "start_time": "2020-06-11T03:02:00.759775Z"
    }
   },
   "outputs": [],
   "source": [
    "fg = monthly_means.Tair.plot(\n",
    "    col=\"month\",\n",
    "    col_wrap=4,\n",
    "    robust=True,\n",
    "    cmap=mpl.cm.RdYlBu_r,\n",
    "    cbar_kwargs={\"orientation\": \"horizontal\", \"shrink\": 0.8, \"aspect\": 40},\n",
    ")"
   ]
  },
  {
   "cell_type": "markdown",
   "metadata": {},
   "source": [
    "### Exercise\n",
    "\n",
    "The returned FacetGrid object `fg` has many useful properties and methods e.g.\n",
    "\n",
    "1. `fg.fig` provides a handle to the figure\n",
    "2. `fg.axes` is a numpy object array with handles to each individual axes\n",
    "3. `fg.set_xlabels` and `fg.set_ylabels` can be used to change axes labels.\n",
    "\n",
    "See https://xarray.pydata.org/en/stable/api.html#faceting for a full list.\n",
    "\n",
    "Use these methods to set a title for the figure using `suptitle`, as well as\n",
    "change the x- and y-labels.\n"
   ]
  },
  {
   "cell_type": "markdown",
   "metadata": {},
   "source": [
    "### Faceting tip 1: Use faceting to plot multiple DataArrays\n",
    "\n",
    "Faceting can be used to plot multiple DataArrays in a Dataset. The trick is to\n",
    "use `to_array()` to convert a Dataset to a DataArray and thne facet that.\n",
    "\n",
    "This trick only works when it is sensible to use the same colormap and color\n",
    "scale for all DataArrays like with `dTdx` and `dTdy`\n"
   ]
  },
  {
   "cell_type": "code",
   "execution_count": null,
   "metadata": {
    "ExecuteTime": {
     "end_time": "2020-06-11T03:05:00.036216Z",
     "start_time": "2020-06-11T03:04:59.973964Z"
    }
   },
   "outputs": [],
   "source": [
    "gradients = monthly_means[[\"dTdx\", \"dTdy\"]].to_array(\"gradient\")\n",
    "gradients"
   ]
  },
  {
   "cell_type": "code",
   "execution_count": null,
   "metadata": {
    "ExecuteTime": {
     "end_time": "2020-06-11T03:05:02.894528Z",
     "start_time": "2020-06-11T03:05:01.454396Z"
    }
   },
   "outputs": [],
   "source": [
    "fg = gradients.isel(month=slice(None, None, 3)).plot.contourf(\n",
    "    levels=13,\n",
    "    col=\"month\",\n",
    "    row=\"gradient\",\n",
    "    robust=True,\n",
    "    cmap=mpl.cm.coolwarm,\n",
    "    cbar_kwargs={\n",
    "        \"orientation\": \"horizontal\",\n",
    "        \"shrink\": 0.8,\n",
    "        \"aspect\": 40,\n",
    "        \"label\": \"Gradient [°C/m]\",\n",
    "    },\n",
    ")"
   ]
  },
  {
   "cell_type": "markdown",
   "metadata": {},
   "source": [
    "### Faceting tip 2: Modifying all facets of a plot\n",
    "\n",
    "The FacetGrid object has some more advanced methods that let you customize the\n",
    "plot further.\n",
    "\n",
    "Here we illustrate the use of `map` and `map_dataarray` that let you map custom\n",
    "plotting functions to an existing `FacetGrid`. The functions passed to `map` and\n",
    "`map_dataarray` must have a particular signature. See the docstring for more\n",
    "details.\n"
   ]
  },
  {
   "cell_type": "code",
   "execution_count": null,
   "metadata": {
    "ExecuteTime": {
     "end_time": "2020-06-11T03:06:40.368314Z",
     "start_time": "2020-06-11T03:06:38.735106Z"
    }
   },
   "outputs": [],
   "source": [
    "fg = gradients.isel(month=slice(None, None, 3)).plot.contourf(\n",
    "    levels=13,\n",
    "    col=\"month\",\n",
    "    row=\"gradient\",\n",
    "    robust=True,\n",
    "    cmap=mpl.cm.coolwarm,\n",
    "    cbar_kwargs={\n",
    "        \"orientation\": \"horizontal\",\n",
    "        \"shrink\": 0.8,\n",
    "        \"aspect\": 40,\n",
    "        \"label\": \"Air temperature gradient [°C/m]\",\n",
    "    },\n",
    ")\n",
    "\n",
    "\n",
    "# Use this to plot contours on each panel\n",
    "fg.map_dataarray(\n",
    "    xr.plot.contour, x=\"lon\", y=\"lat\", colors=\"k\", levels=13, add_colorbar=False\n",
    ")\n",
    "\n",
    "# Add a point (or anything else!)\n",
    "fg.map(lambda: plt.plot(250, 40, markersize=20, marker=\".\", color=\"k\"))"
   ]
  },
  {
   "cell_type": "markdown",
   "metadata": {},
   "source": [
    "## Interactive bokeh plots using hvplot\n",
    "\n",
    "Xarray's builtin plotting functionality wraps matplotlib. The `holoviews`\n",
    "plotting ecosystem provides the `hvplot` package to allow easy visualization of\n",
    "xarray (and other) objects (https://hvplot.holoviz.org/)\n"
   ]
  },
  {
   "cell_type": "code",
   "execution_count": null,
   "metadata": {
    "ExecuteTime": {
     "end_time": "2020-06-11T03:12:07.379960Z",
     "start_time": "2020-06-11T03:12:05.559749Z"
    }
   },
   "outputs": [],
   "source": [
    "import hvplot.xarray"
   ]
  },
  {
   "cell_type": "markdown",
   "metadata": {},
   "source": [
    "**`hvplot` makes the same default choices as xarray**\n"
   ]
  },
  {
   "cell_type": "code",
   "execution_count": null,
   "metadata": {
    "ExecuteTime": {
     "end_time": "2020-06-11T03:12:10.251511Z",
     "start_time": "2020-06-11T03:12:09.004741Z"
    }
   },
   "outputs": [],
   "source": [
    "ds.Tair.hvplot()"
   ]
  },
  {
   "cell_type": "code",
   "execution_count": null,
   "metadata": {
    "ExecuteTime": {
     "end_time": "2020-06-11T03:12:13.498644Z",
     "start_time": "2020-06-11T03:12:13.391829Z"
    }
   },
   "outputs": [],
   "source": [
    "ds.Tair.isel(time=1).hvplot()"
   ]
  },
  {
   "cell_type": "code",
   "execution_count": null,
   "metadata": {
    "ExecuteTime": {
     "end_time": "2020-06-11T03:12:15.282022Z",
     "start_time": "2020-06-11T03:12:15.180088Z"
    }
   },
   "outputs": [],
   "source": [
    "ds.Tair.isel(time=1, lon=1).hvplot()"
   ]
  },
  {
   "cell_type": "markdown",
   "metadata": {},
   "source": [
    "### Interactivity\n",
    "\n",
    "But `hvplot` shines when interactivity is used. Here we can give it _all_ the\n",
    "data and ask it to create a nice slider to control the time slice using the\n",
    "`groupby` kwarg.\n"
   ]
  },
  {
   "cell_type": "code",
   "execution_count": null,
   "metadata": {
    "ExecuteTime": {
     "end_time": "2020-06-11T03:12:41.353540Z",
     "start_time": "2020-06-11T03:12:41.143491Z"
    }
   },
   "outputs": [],
   "source": [
    "ds.Tair.hvplot(groupby=\"time\")"
   ]
  },
  {
   "cell_type": "markdown",
   "metadata": {},
   "source": [
    "Animations are easy\n"
   ]
  },
  {
   "cell_type": "code",
   "execution_count": null,
   "metadata": {
    "ExecuteTime": {
     "end_time": "2020-06-11T03:12:47.032547Z",
     "start_time": "2020-06-11T03:12:46.820441Z"
    }
   },
   "outputs": [],
   "source": [
    "ds.Tair.hvplot(groupby=\"time\", widget_type=\"scrubber\", widget_location=\"bottom\")"
   ]
  },
  {
   "cell_type": "markdown",
   "metadata": {},
   "source": [
    "## Geography\n",
    "\n",
    "### Matplotlib and Cartopy\n",
    "\n",
    "Since xarray's default plotting functionality builds on matplotlib, we can\n",
    "seamlessly use cartopy to make nice maps:\n",
    "\n",
    "1. Specify a `projection` for the plot when creating a new figure `fig` with\n",
    "   axis `axis`.\n",
    "2. Explicitly ask xarray to plot to axis `axis` by passing the kwarg `ax=axis`.\n",
    "3. Specify the projection of the data using `transform` (`PlateCarree` here) in\n",
    "   `.plot()`.\n"
   ]
  },
  {
   "cell_type": "code",
   "execution_count": null,
   "metadata": {
    "ExecuteTime": {
     "end_time": "2020-06-11T03:17:25.685880Z",
     "start_time": "2020-06-11T03:17:25.512169Z"
    }
   },
   "outputs": [],
   "source": [
    "import cartopy.crs as ccrs\n",
    "\n",
    "fig, axis = plt.subplots(\n",
    "    1, 1, subplot_kw=dict(projection=ccrs.Orthographic(-90, 30))\n",
    ")\n",
    "\n",
    "ds.Tair.isel(time=1).plot(\n",
    "    ax=axis,\n",
    "    robust=True,\n",
    "    transform=ccrs.PlateCarree(),\n",
    "    cbar_kwargs={\"orientation\": \"horizontal\", \"shrink\": 0.7},\n",
    ")\n",
    "axis.coastlines()"
   ]
  },
  {
   "cell_type": "markdown",
   "metadata": {},
   "source": [
    "### Faceting maps\n",
    "\n",
    "We can make faceted maps. Since `FacetGrid` creates the axes it plots to, we\n",
    "need to pass the `projection` kwarg in `subplot_kws`. This makes sure that the\n",
    "subplots are set up properly for cartopy.\n"
   ]
  },
  {
   "cell_type": "code",
   "execution_count": null,
   "metadata": {
    "ExecuteTime": {
     "end_time": "2020-06-11T03:22:50.356379Z",
     "start_time": "2020-06-11T03:22:50.044591Z"
    }
   },
   "outputs": [],
   "source": [
    "fg = monthly_means.Tair.isel(month=[1, 2, 3]).plot(\n",
    "    col=\"month\",\n",
    "    robust=True,\n",
    "    transform=ccrs.PlateCarree(),\n",
    "    subplot_kws={\n",
    "        \"projection\": ccrs.LambertConformal(\n",
    "            central_longitude=-95, central_latitude=45\n",
    "        )\n",
    "    },\n",
    "    cbar_kwargs={\"orientation\": \"horizontal\", \"shrink\": 0.8, \"aspect\": 40},\n",
    ")\n",
    "\n",
    "# lets add a coastline to each axis\n",
    "fg.map(lambda: plt.gca().coastlines())"
   ]
  },
  {
   "cell_type": "markdown",
   "metadata": {},
   "source": [
    "### hvplot\n"
   ]
  },
  {
   "cell_type": "code",
   "execution_count": null,
   "metadata": {
    "ExecuteTime": {
     "end_time": "2020-06-11T03:23:34.446468Z",
     "start_time": "2020-06-11T03:23:32.211041Z"
    }
   },
   "outputs": [],
   "source": [
    "ds.Tair.hvplot(\n",
    "    groupby=\"time\",\n",
    "    widget_type=\"scrubber\",\n",
    "    widget_location=\"bottom\",\n",
    "    projection=ccrs.Orthographic(-90, 30),\n",
    "    coastline=True,\n",
    ")"
   ]
  },
  {
   "cell_type": "markdown",
   "metadata": {},
   "source": [
    "## More resources\n",
    "\n",
    "1. Xarray's visualization gallery:\n",
    "   https://xarray.pydata.org/en/stable/examples/visualization_gallery.html\n",
    "2. Xarray's plotting documentation:\n",
    "   https://xarray.pydata.org/en/stable/plotting.html\n",
    "3. hvplot's plotting documentation:\n",
    "   https://hvplot.holoviz.org/user_guide/Gridded_Data.html\n"
   ]
  }
 ],
 "metadata": {
  "kernelspec": {
   "display_name": "Python 3",
   "language": "python",
   "name": "python3"
  },
  "language_info": {
   "codemirror_mode": {
    "name": "ipython",
    "version": 3
   },
   "file_extension": ".py",
   "mimetype": "text/x-python",
   "name": "python",
   "nbconvert_exporter": "python",
   "pygments_lexer": "ipython3",
   "version": "3.8.2"
  },
  "toc": {
   "base_numbering": 1,
   "nav_menu": {},
   "number_sections": true,
   "sideBar": true,
   "skip_h1_title": false,
   "title_cell": "Table of Contents",
   "title_sidebar": "Contents",
   "toc_cell": true,
   "toc_position": {},
   "toc_section_display": true,
   "toc_window_display": true
  }
 },
 "nbformat": 4,
 "nbformat_minor": 4
}
