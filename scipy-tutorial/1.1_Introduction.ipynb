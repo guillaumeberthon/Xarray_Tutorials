{
 "cells": [
  {
   "cell_type": "code",
   "execution_count": null,
   "metadata": {},
   "outputs": [],
   "source": [
    "import xarray as xr\n",
    "import numpy as np\n",
    "import pandas as pd"
   ]
  },
  {
   "cell_type": "markdown",
   "metadata": {},
   "source": [
    "# Introduction\n",
    "\n",
    "- Why xarray?\n",
    "  - numpy arrays are not enough\n",
    "  - names, labels, attributes\n",
    "  - distinction between dimension coordinates and normal coordinates (this distinction might disappear in the future)"
   ]
  },
  {
   "cell_type": "markdown",
   "metadata": {},
   "source": [
    "# Data structures\n",
    "\n",
    "xarray mainly provides two types: `DataArray` and `Dataset`. The `DataArray` class attaches dimension names, coordinates and attributes to multi-dimensional arrays while `Dataset` combines multiple arrays.\n",
    "\n",
    "Both classes are normally created by reading data, but to understand them let's first look at creating them programmatically."
   ]
  },
  {
   "cell_type": "markdown",
   "metadata": {},
   "source": [
    "## DataArray\n",
    "\n",
    "- in-detail description\n",
    "  - attach labels, name and attribute to array"
   ]
  },
  {
   "cell_type": "markdown",
   "metadata": {},
   "source": [
    "structure:\n",
    "- DataArray construction\n",
    "  - data + dims\n",
    "  - coords\n",
    "  - attrs\n",
    "  - name\n",
    " \n",
    "- data: array-like\n",
    "- coords: dict of str to array-like / DataArray\n",
    "- dims: sequence (tuple / list) of hashable (mostly str)\n",
    "- name: hashable (mostly str)\n",
    "- attrs: dict (arbitrary dict)"
   ]
  },
  {
   "cell_type": "markdown",
   "metadata": {},
   "source": [
    "**Todo**: dtypes?\n",
    "\n",
    "- construction and repr\n",
    "  - numeric types (bool, int, float, complex)\n",
    "  - strings\n",
    "  - datetime / cftime\n",
    "  - object"
   ]
  },
  {
   "cell_type": "markdown",
   "metadata": {},
   "source": [
    "To programmatically create a `DataArray`, we use its constructor:\n",
    "```python\n",
    "xr.DataArray([data, coords, dims, name, attrs])\n",
    "```\n",
    "where `data` can be anything with the interface of a `numpy` array (`numpy`, `dask`, `sparse` (WIP), `pint` (WIP), etc) or something that can be converted to a `numpy` array using `numpy.array`.\n",
    "\n",
    "**Todo**: `dims`, `coords`, `attrs`\n",
    "\n",
    "As an example, let's create a `DataArray` with two dimensions from a `numpy` array:"
   ]
  },
  {
   "cell_type": "code",
   "execution_count": null,
   "metadata": {},
   "outputs": [],
   "source": [
    "da = xr.DataArray(np.ones((3, 4)), dims=(\"x\", \"y\"), name=\"a\")\n",
    "da"
   ]
  },
  {
   "cell_type": "markdown",
   "metadata": {},
   "source": [
    "**Todo**: explain the HTML/text repr in depth"
   ]
  },
  {
   "cell_type": "markdown",
   "metadata": {},
   "source": [
    "The representation of the new array (its `repr`) consists of:\n",
    "- the name of the `DataArray` (`'a'`). If we don't provide a name, this will be omitted.\n",
    "- the dimensions of the array `(x: 3, y: 4)`: this tells us that the first dimension is named `x` and has a size of `3` while the second dimension is named `y` and has a size of `4`\n",
    "- a preview of the data\n",
    "- a list of coordinates\n",
    "- a list of attributes\n",
    "\n",
    "Since we didn't provide them, these dimensions don't have coordinates and there are no attributes. If we want to attach coordinates and/or attributes, we can do that with the `coords` and `attrs` parameters:"
   ]
  },
  {
   "cell_type": "code",
   "execution_count": null,
   "metadata": {},
   "outputs": [],
   "source": [
    "da = xr.DataArray(\n",
    "    np.ones((3, 4)),\n",
    "    dims=(\"x\", \"y\"),\n",
    "    coords={\"x\": [\"a\", \"b\", \"c\"], \"y\": np.arange(4), \"u\": (\"x\", np.arange(3), {\"attr1\": 0})},\n",
    "    attrs={\"attribute\": \"string\", \"flag\": 1},\n",
    ")\n",
    "da"
   ]
  },
  {
   "cell_type": "markdown",
   "metadata": {},
   "source": [
    "With the values passed to `coords`, we attached values to `x` and `y` and also created a non-dimension coordinate named `u` with the tuple syntax. That special syntax can be used as a shortcut and is roughly equivalent to\n",
    "```python\n",
    "xr.DataArray(data=np.arange(3), dims=\"x\", attrs={\"attr1\": 0})\n",
    "```\n",
    "so we can use that to add `attrs` to the coordinate. Note: using `{\"y\": np.arange(4)}` has the same result as `{\"y\": (\"y\", np.arange(4)}`"
   ]
  },
  {
   "cell_type": "markdown",
   "metadata": {},
   "source": [
    "Since `attrs` is a normal python `dict`, there is no restriction on the keys / values. However, by convention big arrays should not be used as values. Instead, use coordinates or a data variable in a `Dataset`."
   ]
  },
  {
   "cell_type": "markdown",
   "metadata": {},
   "source": [
    "Once we have created the `DataArray`, we can look at its data:"
   ]
  },
  {
   "cell_type": "code",
   "execution_count": null,
   "metadata": {},
   "outputs": [],
   "source": [
    "da.data"
   ]
  },
  {
   "cell_type": "code",
   "execution_count": null,
   "metadata": {},
   "outputs": [],
   "source": [
    "da.dims"
   ]
  },
  {
   "cell_type": "code",
   "execution_count": null,
   "metadata": {},
   "outputs": [],
   "source": [
    "da.coords"
   ]
  },
  {
   "cell_type": "code",
   "execution_count": null,
   "metadata": {},
   "outputs": [],
   "source": [
    "da.attrs"
   ]
  },
  {
   "cell_type": "markdown",
   "metadata": {},
   "source": [
    "Coordinates become useful when we try to operate on two objects with different coordinate values:"
   ]
  },
  {
   "cell_type": "code",
   "execution_count": null,
   "metadata": {},
   "outputs": [],
   "source": [
    "a = xr.DataArray(np.full((3, 4), 3), dims=(\"x\", \"y\"), coords={\"x\": [\"a\", \"b\", \"c\"], \"y\": np.arange(4)})\n",
    "a"
   ]
  },
  {
   "cell_type": "code",
   "execution_count": null,
   "metadata": {},
   "outputs": [],
   "source": [
    "b = xr.DataArray(\n",
    "    np.full((5, 4, 2), 0.5),\n",
    "    dims=(\"x\", \"y\", \"z\"),\n",
    "    coords={\"x\": [\"z\", \"f\", \"c\", \"r\", \"b\"], \"y\": [5, 1, 0, 9], \"z\": [-1, 4]},\n",
    ")\n",
    "b"
   ]
  },
  {
   "cell_type": "code",
   "execution_count": null,
   "metadata": {},
   "outputs": [],
   "source": [
    "a * b"
   ]
  },
  {
   "cell_type": "markdown",
   "metadata": {},
   "source": [
    "where only the matching coordinates for common dimensions were used."
   ]
  },
  {
   "cell_type": "markdown",
   "metadata": {},
   "source": [
    "# Dataset\n",
    "\n",
    "`Dataset` objects collect multiple data variables, each with possibly different dimensions.\n",
    "\n",
    "The constructor of `Dataset` takes three optional parameters:\n",
    "```python\n",
    "xr.Dataset([data_vars, coords, attrs])\n",
    "```\n",
    "\n",
    "where `coords` and `attrs` have the same structure as for `DataArray`. `data_vars` is a dictionary mapping names to either `DataArray` objects or the special tuple syntax (`(dims, data, [, attrs])`).\n",
    "\n",
    "For example, let's create a `Dataset` with two variables:"
   ]
  },
  {
   "cell_type": "code",
   "execution_count": null,
   "metadata": {},
   "outputs": [],
   "source": [
    "xr.Dataset(data_vars={\n",
    "    \"a\": ((\"x\", \"y\"), np.ones((3, 4))),\n",
    "    \"b\": ((\"t\", \"x\"), np.full((8, 3), 3), {\"attr\": \"value\"}),\n",
    "})"
   ]
  },
  {
   "cell_type": "markdown",
   "metadata": {},
   "source": [
    "We can see that in total, `Dataset` has three dimensions: `t`, `x`, and `y`. However, neither `a` nor `b` is three dimensional."
   ]
  },
  {
   "cell_type": "markdown",
   "metadata": {},
   "source": [
    "As with `DataArray`, a `Dataset` really becomes useful once we assign coordinates:"
   ]
  },
  {
   "cell_type": "code",
   "execution_count": null,
   "metadata": {},
   "outputs": [],
   "source": [
    "xr.Dataset(\n",
    "    data_vars={\n",
    "        \"a\": ((\"x\", \"y\"), np.ones((3, 4))),\n",
    "        \"b\": ((\"t\", \"x\"), np.full((8, 3), 3)),\n",
    "    },\n",
    "    coords={\n",
    "        \"x\": [\"a\", \"b\", \"c\"],\n",
    "        \"y\": np.arange(4),\n",
    "        \"t\": pd.date_range(\"2020-07-05\", periods=8, freq=\"D\"),\n",
    "    },\n",
    ")"
   ]
  },
  {
   "cell_type": "markdown",
   "metadata": {},
   "source": [
    "If we have variables with different values along the same dimension, we can't use the shortcut syntax anymore. Instead, we need to use `DataArray` objects:"
   ]
  },
  {
   "cell_type": "code",
   "execution_count": null,
   "metadata": {},
   "outputs": [],
   "source": [
    "x_a = np.arange(1, 4)\n",
    "x_b = np.arange(-1, 3)\n",
    "\n",
    "a = xr.DataArray(np.linspace(0, 1, 3), dims=\"x\", coords={\"x\": x_a})\n",
    "b = xr.DataArray(np.zeros(4), dims=\"x\", coords={\"x\": x_b})\n",
    "\n",
    "xr.Dataset(data_vars={\"a\": a, \"b\": b})"
   ]
  },
  {
   "cell_type": "markdown",
   "metadata": {},
   "source": [
    "which combines the coordinates and fills in `float` `nan` values for missing data: for example, `b` doesn't have a value for `x == 3` so `nan` was used."
   ]
  }
 ],
 "metadata": {
  "kernelspec": {
   "display_name": "Python 3",
   "language": "python",
   "name": "python3"
  },
  "language_info": {
   "codemirror_mode": {
    "name": "ipython",
    "version": 3
   },
   "file_extension": ".py",
   "mimetype": "text/x-python",
   "name": "python",
   "nbconvert_exporter": "python",
   "pygments_lexer": "ipython3",
   "version": "3.8.3"
  }
 },
 "nbformat": 4,
 "nbformat_minor": 4
}
