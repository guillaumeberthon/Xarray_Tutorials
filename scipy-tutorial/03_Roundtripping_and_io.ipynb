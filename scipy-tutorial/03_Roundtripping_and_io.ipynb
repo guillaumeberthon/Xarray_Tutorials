{
 "cells": [
  {
   "cell_type": "markdown",
   "metadata": {},
   "source": [
    "# Roundtripping and I/O\n",
    "\n",
    "- numpy (to_array)\n",
    "- pandas (from_series/to_series, from/to dataframe)\n",
    "- dask (to_dask_dataframe)\n",
    "- dict (to_dict/from_dict)\n",
    "- iris (to_iris / from_iris)\n",
    "\n",
    "# I/O\n",
    "\n",
    "- netcdf / pseudonetcdf (open_dataset / open_mfdataset, to_netcdf / save_mfdataset)\n",
    "- zarr (open_zarr, to_zarr)\n",
    "- rasterio (open_rasterio)"
   ]
  }
 ],
 "metadata": {
  "kernelspec": {
   "display_name": "Python 3",
   "language": "python",
   "name": "python3"
  },
  "language_info": {
   "codemirror_mode": {
    "name": "ipython",
    "version": 3
   },
   "file_extension": ".py",
   "mimetype": "text/x-python",
   "name": "python",
   "nbconvert_exporter": "python",
   "pygments_lexer": "ipython3",
   "version": "3.8.2"
  }
 },
 "nbformat": 4,
 "nbformat_minor": 4
}
