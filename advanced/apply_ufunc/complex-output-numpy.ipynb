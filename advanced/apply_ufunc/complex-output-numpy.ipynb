{
 "cells": [
  {
   "cell_type": "markdown",
   "id": "0203c86c-2e42-4226-acd1-1e9bcffc6708",
   "metadata": {
    "tags": [],
    "user_expressions": []
   },
   "source": [
    "# Handling complex output\n",
    "\n",
    "\n",
    "## Introduction\n",
    "\n",
    "A good example is numpy's 1D interpolate function :py:func:`numpy.interp`:\n",
    "\n",
    "```\n",
    "    Signature: np.interp(x, xp, fp, left=None, right=None, period=None)\n",
    "    Docstring:\n",
    "        One-dimensional linear interpolation.\n",
    "\n",
    "    Returns the one-dimensional piecewise linear interpolant to a function\n",
    "    with given discrete data points (`xp`, `fp`), evaluated at `x`.\n",
    "```\n",
    "\n",
    "This function expects a 1D array as input, and returns a 1D array as output.\n"
   ]
  },
  {
   "cell_type": "code",
   "execution_count": null,
   "id": "18135586-b2d9-4f1d-abe2-d7afa036e2bc",
   "metadata": {
    "tags": []
   },
   "outputs": [],
   "source": [
    "import xarray as xr\n",
    "import numpy as np\n",
    "\n",
    "air = (\n",
    "    xr.tutorial.load_dataset(\"air_temperature\")\n",
    "    .air.sortby(\"lat\")  # np.interp needs coordinate in ascending order\n",
    "    .isel(time=-0, lon=0)  # choose a 1D subset\n",
    ")\n",
    "air"
   ]
  },
  {
   "cell_type": "markdown",
   "id": "db79d3e3-2a1a-4644-82a0-d58da74e0e36",
   "metadata": {
    "tags": [],
    "user_expressions": []
   },
   "source": [
    "## Adding a new dimension"
   ]
  },
  {
   "cell_type": "code",
   "execution_count": null,
   "id": "b5e9b4b4-712d-4ef7-8e13-9bbbad59728a",
   "metadata": {
    "tags": []
   },
   "outputs": [],
   "source": [
    "newlat = np.linspace(15, 75, 100)\n",
    "\n",
    "xr.apply_ufunc(\n",
    "    np.interp,  # first the function\n",
    "    newlat,\n",
    "    air.lat,\n",
    "    air,\n",
    "    input_core_dims=[[\"lat\"], [\"lat\"], [\"lat\"]],\n",
    "    output_core_dims=[[\"lat_interp\"]],\n",
    ")"
   ]
  },
  {
   "cell_type": "markdown",
   "id": "7767a63d-20c5-4c2d-8bf0-3b26bc2b336f",
   "metadata": {
    "tags": [],
    "user_expressions": []
   },
   "source": [
    "## Dimensions that change size"
   ]
  },
  {
   "cell_type": "code",
   "execution_count": null,
   "id": "0fc8f8f5-0560-46f2-be65-8daabea2d837",
   "metadata": {
    "tags": [
     "raises-exception"
    ]
   },
   "outputs": [],
   "source": [
    "%xmode minimal\n",
    "\n",
    "newlat = np.linspace(15, 75, 100)\n",
    "\n",
    "xr.apply_ufunc(\n",
    "    np.interp,  # first the function\n",
    "    newlat,\n",
    "    air.lat,\n",
    "    air,\n",
    "    input_core_dims=[[\"lat\"], [\"lat\"], [\"lat\"]],\n",
    "    output_core_dims=[[\"lat\"]],\n",
    ")"
   ]
  },
  {
   "cell_type": "code",
   "execution_count": null,
   "id": "61a39f36-9386-407b-b1c0-b49953da9d0c",
   "metadata": {
    "tags": []
   },
   "outputs": [],
   "source": [
    "newlat = np.linspace(15, 75, 100)\n",
    "\n",
    "xr.apply_ufunc(\n",
    "    np.interp,  # first the function\n",
    "    newlat,\n",
    "    air.lat,\n",
    "    air,\n",
    "    input_core_dims=[[\"lat\"], [\"lat\"], [\"lat\"]],\n",
    "    output_core_dims=[[\"lat\"]],\n",
    "    exclude_dims={\"lat\"},\n",
    ")"
   ]
  },
  {
   "cell_type": "markdown",
   "id": "a3c45b16-795c-4549-95ee-8e9c0d7dd517",
   "metadata": {
    "tags": [],
    "user_expressions": []
   },
   "source": [
    "## TODO: Returning multiple variables"
   ]
  }
 ],
 "metadata": {
  "language_info": {
   "codemirror_mode": {
    "name": "ipython",
    "version": 3
   },
   "file_extension": ".py",
   "mimetype": "text/x-python",
   "name": "python",
   "nbconvert_exporter": "python",
   "pygments_lexer": "ipython3"
  }
 },
 "nbformat": 4,
 "nbformat_minor": 5
}
