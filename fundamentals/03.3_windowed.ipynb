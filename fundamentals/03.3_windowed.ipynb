{
 "cells": [
  {
   "cell_type": "markdown",
   "id": "5d7c85f4-6334-4527-ae2e-34312161aa31",
   "metadata": {},
   "source": [
    "# Windowed Computations"
   ]
  },
  {
   "cell_type": "code",
   "execution_count": null,
   "id": "5863f858-a381-45ba-8f28-bc152fc845c1",
   "metadata": {},
   "outputs": [],
   "source": [
    "import numpy as np\n",
    "import xarray as xr\n",
    "import matplotlib.pyplot as plt\n",
    "\n",
    "%config InlineBackend.figure_format='retina'"
   ]
  },
  {
   "cell_type": "code",
   "execution_count": null,
   "id": "9eb4ab3a-d83b-4a00-ab7f-6895b592e732",
   "metadata": {},
   "outputs": [],
   "source": [
    "ds = xr.tutorial.load_dataset(\"ersstv5\")\n",
    "gb = ds.groupby(\"time.month\")\n",
    "ds_anom = gb - gb.mean()\n",
    "ds_anom_resample = ds_anom.resample(time=\"5Y\").mean()"
   ]
  },
  {
   "cell_type": "markdown",
   "id": "18a05cff-447b-4007-ac11-3bf207d99008",
   "metadata": {},
   "source": [
    "## Rolling or moving windows"
   ]
  },
  {
   "cell_type": "markdown",
   "id": "0693900c-b4e1-4547-8c0d-1374850a1d5c",
   "metadata": {},
   "source": [
    "Rolling is also similar to pandas, but can be applied along any dimension. It\n",
    "works with logical coordinates."
   ]
  },
  {
   "cell_type": "code",
   "execution_count": null,
   "id": "37c05ea2-8f7b-47c2-b859-c23c74899ee2",
   "metadata": {},
   "outputs": [],
   "source": [
    "ds_anom_rolling = ds_anom.rolling(time=12, center=True).mean()\n",
    "ds_anom_rolling"
   ]
  },
  {
   "cell_type": "code",
   "execution_count": null,
   "id": "db779a4e-7284-4928-a6a9-d677254d98d4",
   "metadata": {},
   "outputs": [],
   "source": [
    "ds_anom.sst.sel(lon=300, lat=50).plot(label=\"monthly anom\")\n",
    "ds_anom_resample.sst.sel(lon=300, lat=50).plot(marker=\"o\", label=\"5 year resample\")\n",
    "ds_anom_rolling.sst.sel(lon=300, lat=50).plot(label=\"12 month rolling mean\")\n",
    "plt.legend()"
   ]
  },
  {
   "cell_type": "markdown",
   "id": "c2584414-92bc-48ce-b1f4-0389da06bbb0",
   "metadata": {},
   "source": [
    "## Coarsening\n",
    "\n",
    "`coarsen` does something similar to `resample`, but without being aware of time.\n",
    "It operates on logical coordinates only but can work on multiple dimensions at a\n",
    "time.\n"
   ]
  },
  {
   "cell_type": "code",
   "execution_count": null,
   "id": "2715d62f-25ba-491b-988f-97b796c64741",
   "metadata": {},
   "outputs": [],
   "source": [
    "ds_anom_coarsen_time = ds_anom.coarsen(time=12).mean()\n",
    "\n",
    "ds_anom_rolling.sst.sel(lon=300, lat=50).plot(label=\"12 month rolling mean\")\n",
    "ds_anom_coarsen_time.sst.sel(lon=300, lat=50).plot(marker=\"^\", label=\"12 item coarsen\")\n",
    "plt.legend()"
   ]
  },
  {
   "cell_type": "code",
   "execution_count": null,
   "id": "a0f6ed24-cd41-4b3c-b1a7-aee3105b66d8",
   "metadata": {
    "tags": [
     "raises-exception"
    ]
   },
   "outputs": [],
   "source": [
    "# We expect an error here\n",
    "ds_anom_coarsen_space = ds_anom.coarsen(lon=4, lat=4).mean()"
   ]
  },
  {
   "cell_type": "code",
   "execution_count": null,
   "id": "590af323-1119-42a4-b32b-6dbc686bb58f",
   "metadata": {},
   "outputs": [],
   "source": [
    "ds_anom_coarsen_space = ds_anom.isel(lat=slice(0, -1)).coarsen(lon=4, lat=4).mean()\n",
    "ds_anom_coarsen_space"
   ]
  },
  {
   "cell_type": "code",
   "execution_count": null,
   "id": "31ca5529-fd36-4236-9d9d-9a17c8b96a5e",
   "metadata": {},
   "outputs": [],
   "source": [
    "ds_anom_coarsen_space.sst.isel(time=0).plot();"
   ]
  },
  {
   "cell_type": "markdown",
   "id": "9d8ccd77-dbd0-41ba-b2d2-7b3ed5b9e976",
   "metadata": {},
   "source": [
    "## Going further\n",
    "\n",
    "1. See the documentation on [rolling](https://docs.xarray.dev/en/stable/user-guide/computation.html#rolling-window-operations) and [coarsen](https://docs.xarray.dev/en/stable/user-guide/computation.html#coarsen-large-arrays).\n",
    "2. Follow the tutorial on [high-level computational patterns](https://tutorial.xarray.dev/intermediate/01-high-level-computation-patterns.html#)"
   ]
  }
 ],
 "metadata": {
  "language_info": {
   "codemirror_mode": {
    "name": "ipython",
    "version": 3
   },
   "file_extension": ".py",
   "mimetype": "text/x-python",
   "name": "python",
   "nbconvert_exporter": "python",
   "pygments_lexer": "ipython3"
  }
 },
 "nbformat": 4,
 "nbformat_minor": 5
}
