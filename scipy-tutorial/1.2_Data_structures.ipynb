{
 "cells": [
  {
   "cell_type": "markdown",
   "metadata": {},
   "source": [
    "# DataArray\n",
    "\n",
    "- attach labels, name and attribute to array\n",
    "- construction and repr\n",
    "  - numeric types (bool, int, float, complex)\n",
    "  - strings\n",
    "  - datetime / cftime\n",
    "  - object\n",
    "\n",
    "# Dataset\n",
    "\n",
    "- collection of multiple dataarrays\n",
    "- construction / repr"
   ]
  }
 ],
 "metadata": {
  "kernelspec": {
   "display_name": "Python 3",
   "language": "python",
   "name": "python3"
  },
  "language_info": {
   "codemirror_mode": {
    "name": "ipython",
    "version": 3
   },
   "file_extension": ".py",
   "mimetype": "text/x-python",
   "name": "python",
   "nbconvert_exporter": "python",
   "pygments_lexer": "ipython3",
   "version": "3.8.2"
  }
 },
 "nbformat": 4,
 "nbformat_minor": 4
}
