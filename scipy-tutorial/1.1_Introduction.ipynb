{
 "cells": [
  {
   "cell_type": "code",
   "execution_count": null,
   "metadata": {},
   "outputs": [],
   "source": [
    "import xarray as xr\n",
    "import numpy as np\n",
    "import pandas as pd"
   ]
  },
  {
   "cell_type": "markdown",
   "metadata": {},
   "source": [
    "# Introduction\n",
    "\n",
    "- Why xarray?\n",
    "  - numpy arrays are not enough\n",
    "  - names, labels, attributes\n",
    "  - distinction between dimension coordinates and normal coordinates (this distinction might disappear in the future)"
   ]
  },
  {
   "cell_type": "markdown",
   "metadata": {},
   "source": [
    "# Data structures\n",
    "\n",
    "xarray mainly provides two types: `DataArray` and `Dataset`. The `DataArray` class attaches dimension names, coordinates and attributes to multi-dimensional arrays while `Dataset` combines multiple arrays.\n",
    "\n",
    "Both classes are normally created by reading data, but to understand them let's first look at creating them programmatically."
   ]
  },
  {
   "cell_type": "markdown",
   "metadata": {},
   "source": [
    "## DataArray\n",
    "\n",
    "- in-detail description\n",
    "  - attach labels, name and attribute to array"
   ]
  },
  {
   "cell_type": "markdown",
   "metadata": {},
   "source": [
    "structure:\n",
    "- DataArray construction\n",
    "  - data + dims\n",
    "  - coords\n",
    "  - attrs\n",
    "  - name\n",
    " \n",
    "- data: array-like\n",
    "- coords: dict of str to array-like / DataArray\n",
    "- dims: sequence (tuple / list) of hashable (mostly str)\n",
    "- name: hashable (mostly str)\n",
    "- attrs: dict (arbitrary dict)"
   ]
  },
  {
   "cell_type": "markdown",
   "metadata": {},
   "source": [
    "**Todo**: dtypes?"
   ]
  },
  {
   "cell_type": "markdown",
   "metadata": {},
   "source": [
    "To programmatically create a `DataArray`, we use its constructor:\n",
    "```python\n",
    "xr.DataArray([data, coords, dims, name, attrs])\n",
    "```\n",
    "To be useful, we need at least `data`, which can be anything with the interface of a `numpy` array (`numpy`, `dask`, `sparse` (WIP), `pint` (WIP), etc). As an example, let's create a `DataArray` with two dimensions from a `numpy` array:"
   ]
  },
  {
   "cell_type": "code",
   "execution_count": null,
   "metadata": {},
   "outputs": [],
   "source": [
    "da = xr.DataArray(np.ones((3, 4)), dims=(\"x\", \"y\"), name=\"a\")\n",
    "da"
   ]
  },
  {
   "cell_type": "markdown",
   "metadata": {},
   "source": [
    "**Todo**: explain the HTML/text repr in depth"
   ]
  },
  {
   "cell_type": "markdown",
   "metadata": {},
   "source": [
    "The representation of the new array (its `repr`) consists of:\n",
    "- the name of the `DataArray` (`'a'`). If we don't provide a name, this will be omitted.\n",
    "- the dimensions of the array `(x: 3, y: 4)`: this tells us that the first dimension is named `x` and has a size of `3` while the second dimension is named `y` and has a size of `4`\n",
    "- a preview of the data\n",
    "- a list of coordinates\n",
    "- a list of attributes\n",
    "\n",
    "Since we didn't provide them, these dimensions don't have coordinates and there are no attributes. If we want to attach coordinates and/or attributes, we can do that with the `coords` and `attrs` parameters:"
   ]
  },
  {
   "cell_type": "code",
   "execution_count": null,
   "metadata": {},
   "outputs": [],
   "source": [
    "xr.DataArray(\n",
    "    np.ones((3, 4)),\n",
    "    dims=(\"x\", \"y\"),\n",
    "    coords={\"x\": [\"a\", \"b\", \"c\"], \"y\": np.arange(4), \"u\": (\"x\", np.arange(3), {\"attr1\": 0})},\n",
    "    attrs={\"attribute\": \"string\", \"flag\": 1},\n",
    ")"
   ]
  },
  {
   "cell_type": "markdown",
   "metadata": {},
   "source": [
    "With the values passed to `coords`, we attached values to `x` and `y` and also created a non-dimension coordinate named `u` with the tuple syntax. That special syntax can be used as a shortcut and is roughly equivalent to\n",
    "```python\n",
    "data = (\"x\", np.arange(3), {\"attr1\": 0})\n",
    "xr.DataArray(**dict(zip([\"dims\", \"data\", \"attrs\"], data)))\n",
    "```\n",
    "so we ca also add `attrs` to the coordinate. Note: using `{\"y\": np.arange(4)}` has the same result as `{\"y\": (\"y\", np.arange(4)}`"
   ]
  },
  {
   "cell_type": "markdown",
   "metadata": {},
   "source": [
    "Since `attrs` is a normal python `dict`, there is no restriction on the keys / values. However, by convention big arrays should not be used as values. Instead, use coordinates or a data variable in a `Dataset`."
   ]
  },
  {
   "cell_type": "markdown",
   "metadata": {},
   "source": [
    "- construction and repr\n",
    "  - numeric types (bool, int, float, complex)\n",
    "  - strings\n",
    "  - datetime / cftime\n",
    "  - object\n",
    "\n",
    "# Dataset\n",
    "\n",
    "- collection of multiple dataarrays\n",
    "- construction / repr"
   ]
  }
 ],
 "metadata": {
  "kernelspec": {
   "display_name": "Python 3",
   "language": "python",
   "name": "python3"
  },
  "language_info": {
   "codemirror_mode": {
    "name": "ipython",
    "version": 3
   },
   "file_extension": ".py",
   "mimetype": "text/x-python",
   "name": "python",
   "nbconvert_exporter": "python",
   "pygments_lexer": "ipython3",
   "version": "3.8.3"
  }
 },
 "nbformat": 4,
 "nbformat_minor": 4
}
