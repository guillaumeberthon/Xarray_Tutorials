{
 "cells": [
  {
   "cell_type": "markdown",
   "id": "32a33add-8107-4f88-b831-7d24d76b2a98",
   "metadata": {},
   "source": [
    "# A gentle introduction\n",
    "\n",
    "`map_blocks` is inspired by the `dask.array` function of the same name and lets\n",
    "you map a function on blocks of the xarray object (including Datasets!).\n",
    "\n",
    "At _compute_ time, your function will receive an xarray object with concrete\n",
    "(computed) values along with appropriate metadata. This function should return\n",
    "an xarray object.\n",
    "\n",
    "Here is an example\n"
   ]
  },
  {
   "cell_type": "code",
   "execution_count": null,
   "id": "780fe5ac-6c28-4db5-b277-bea05673f23f",
   "metadata": {},
   "outputs": [],
   "source": [
    "def time_mean(obj):\n",
    "    # use xarray's convenient API here\n",
    "    # you could convert to a pandas dataframe and use pandas' extensive API\n",
    "    # or use .plot() and plt.savefig to save visualizations to disk in parallel.\n",
    "    return obj.mean(\"lat\")\n",
    "\n",
    "\n",
    "ds.map_blocks(time_mean)  # this is lazy!"
   ]
  },
  {
   "cell_type": "code",
   "execution_count": null,
   "id": "d95d30c3-bb12-48b0-8d84-6b2e2d1532f6",
   "metadata": {},
   "outputs": [],
   "source": [
    "# this will calculate values and will return True if the computation works as expected\n",
    "ds.map_blocks(time_mean).identical(ds.mean(\"lat\"))"
   ]
  },
  {
   "cell_type": "markdown",
   "id": "037529cc-f326-4bc1-bcec-932943b7c54b",
   "metadata": {},
   "source": [
    "### Exercise\n",
    "\n",
    "Try applying the following function with `map_blocks`. Specify `scale` as an\n",
    "argument and `offset` as a kwarg.\n",
    "\n",
    "The docstring should help:\n",
    "https://xarray.pydata.org/en/stable/generated/xarray.map_blocks.html\n",
    "\n",
    "```\n",
    "def time_mean_scaled(obj, scale, offset):\n",
    "    return obj.mean(\"lat\") * scale + offset\n",
    "```\n"
   ]
  },
  {
   "cell_type": "markdown",
   "id": "ccab2fa5-5ce8-4bae-8e15-67e68fb55ccd",
   "metadata": {},
   "source": [
    "### More advanced functions\n",
    "\n",
    "`map_blocks` needs to know what the returned object looks like _exactly_. It\n",
    "does so by passing a 0-shaped xarray object to the function and examining the\n",
    "result. This approach cannot work in all cases For such advanced use cases,\n",
    "`map_blocks` allows a `template` kwarg. See\n",
    "https://xarray.pydata.org/en/latest/dask.html#map-blocks for more details\n"
   ]
  }
 ],
 "metadata": {
  "language_info": {
   "codemirror_mode": {
    "name": "ipython",
    "version": 3
   },
   "file_extension": ".py",
   "mimetype": "text/x-python",
   "name": "python",
   "nbconvert_exporter": "python",
   "pygments_lexer": "ipython3"
  }
 },
 "nbformat": 4,
 "nbformat_minor": 5
}
