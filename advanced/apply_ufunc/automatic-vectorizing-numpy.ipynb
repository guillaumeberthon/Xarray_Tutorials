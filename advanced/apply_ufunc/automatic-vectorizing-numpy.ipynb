{
 "cells": [
  {
   "cell_type": "markdown",
   "id": "6849dcdc-3484-4f41-8b23-51613d36812f",
   "metadata": {
    "tags": [],
    "user_expressions": []
   },
   "source": [
    "# Automatic Vectorization"
   ]
  },
  {
   "cell_type": "markdown",
   "id": "afc56d28-6e55-4967-b27d-28e2cc539cc7",
   "metadata": {
    "tags": [],
    "user_expressions": []
   },
   "source": [
    "Previously we looked at applying functions on numpy arrays, and the concept of core dimensions.\n",
    "We learned that functions commonly support specifying \"core dimensions\" through the `axis` keyword\n",
    "argument. However many functions exist, that implicitly have core dimensions, but do not provide an `axis` keyword\n",
    "argument. Applying such functions to a nD array usually involves one or multiple loops.\n",
    "Our goal here is to learn how to apply such functions without loops using `apply_ufunc` by providing the `vectorize`\n",
    "keyword argument.\n",
    "\n",
    "\n",
    "## Introduction\n",
    "\n",
    "A good example is numpy's 1D interpolate function :py:func:`numpy.interp`:\n",
    "\n",
    "```\n",
    "    Signature: np.interp(x, xp, fp, left=None, right=None, period=None)\n",
    "    Docstring:\n",
    "        One-dimensional linear interpolation.\n",
    "\n",
    "    Returns the one-dimensional piecewise linear interpolant to a function\n",
    "    with given discrete data points (`xp`, `fp`), evaluated at `x`.\n",
    "```\n",
    "\n",
    "This functions expects 1D arrays as input, so there is one core dimension and we cannot easily apply \n",
    "it to a nD array since there is no `axis` keyword argument. \n",
    "\n",
    "\n",
    "### Core dimensions and looping\n",
    "A common pattern to solve this problem is to loop over all the other dimensions. Let's say we want to\n",
    "interpolate an array with two dimensions (`space`, `time`) over the `time` dimension, we might \n",
    "1. loop over the space dimension, \n",
    "2. subset the array to a 1D array at that `space` loction, \n",
    "3. Interpolate the 1D arrays to the new time vector, and\n",
    "4. Assign that new interpolated 1D array to the appropriate location of a 2D output array\n",
    "\n",
    "In pseudo-code this might look like\n",
    "\n",
    "```python\n",
    "for index in range(size_of_space_axis):\n",
    "    out[index, :] = np.interp(..., array[index, :], ...)\n",
    "```\n",
    "\n",
    "\n",
    "#### Exercise\n",
    "\n",
    "Consider the example problem of interpolating a 2D array with dimensions `space` and `time` along the `time` dimension.\n",
    "Which dimension is the core dimension, and which is the \"loop dimension\"?\n",
    "\n",
    "\n",
    "## Vectorization\n",
    "\n",
    "The pattern of looping over any number of \"loop dimensions\" and applying a function along \"core dimensions\" \n",
    "is so common that numpy provides wrappers that automate these steps: \n",
    "1. numpy.apply_along_axis\n",
    "1. numpy.apply_along_axes\n",
    "1. numpy.vectorize\n",
    "\n",
    "\n",
    "`apply_ufunc` provides an easy interface to `numpy.vectorize` through the keyword argument `vectorize`. Here we see how to use\n",
    "that to automatically apply `np.interp` along a single axis of a nD array\n",
    "\n",
    "## Load data\n",
    "\n",
    "First lets load an example dataset\n",
    "\n",
    "```{tip}\n",
    "We'll reduce the length of error messages using `%xmode minimal` See the [ipython documentation](https://ipython.readthedocs.io/en/stable/interactive/magics.html#magic-xmode) for details.\n",
    "```"
   ]
  },
  {
   "cell_type": "code",
   "execution_count": null,
   "id": "76aa13b8-5ced-4468-a72e-6b0a29172d6d",
   "metadata": {
    "tags": []
   },
   "outputs": [],
   "source": [
    "%xmode minimal\n",
    "\n",
    "import xarray as xr\n",
    "import numpy as np\n",
    "\n",
    "air = (\n",
    "    xr.tutorial.load_dataset(\"air_temperature\")\n",
    "    .air.sortby(\"lat\")  # np.interp needs coordinate in ascending order\n",
    "    .isel(time=slice(4), lon=slice(3))  # choose a small subset for convenience\n",
    ")\n",
    "air"
   ]
  },
  {
   "cell_type": "markdown",
   "id": "ef161fb5-15d7-4d13-831e-6407d5293bc1",
   "metadata": {
    "user_expressions": []
   },
   "source": [
    "The function we will apply is `np.interp` which expects 1D numpy arrays. This functionality is already implemented in xarray so we use that capability to make sure we are not making mistakes."
   ]
  },
  {
   "cell_type": "code",
   "execution_count": null,
   "id": "bf37f81b-f6b5-42d4-b20e-0d22e3d124d6",
   "metadata": {
    "tags": []
   },
   "outputs": [],
   "source": [
    "newlat = np.linspace(15, 75, 100)\n",
    "air.interp(lat=newlat)"
   ]
  },
  {
   "cell_type": "markdown",
   "id": "426f5211-031e-4096-8bdc-78a0cb4c1766",
   "metadata": {
    "user_expressions": []
   },
   "source": [
    "Let's define a function that works with one vector of data along `lat` at a time."
   ]
  },
  {
   "cell_type": "code",
   "execution_count": null,
   "id": "cb286fa0-deba-4929-b18a-79af5acb0b5b",
   "metadata": {},
   "outputs": [],
   "source": [
    "def interp1d_np(data, x, xi):\n",
    "    return np.interp(xi, x, data)\n",
    "\n",
    "\n",
    "interped = interp1d_np(air.isel(time=0, lon=0), air.lat, newlat)\n",
    "expected = air.interp(lat=newlat)\n",
    "\n",
    "# no errors are raised if values are equal to within floating point precision\n",
    "np.testing.assert_allclose(expected.isel(time=0, lon=0).values, interped)"
   ]
  },
  {
   "cell_type": "markdown",
   "id": "454a9887-948a-45f0-9b7c-dc07bb542726",
   "metadata": {
    "user_expressions": []
   },
   "source": [
    "## `exclude_dims`"
   ]
  },
  {
   "cell_type": "markdown",
   "id": "42dad673-7987-4dff-870b-c2bdff440993",
   "metadata": {
    "user_expressions": []
   },
   "source": [
    "\n",
    "```\n",
    "exclude_dims : set, optional\n",
    "        Core dimensions on the inputs to exclude from alignment and\n",
    "        broadcasting entirely. Any input coordinates along these dimensions\n",
    "        will be dropped. Each excluded dimension must also appear in\n",
    "        ``input_core_dims`` for at least one argument. Only dimensions listed\n",
    "        here are allowed to change size between input and output objects.\n",
    "```"
   ]
  },
  {
   "cell_type": "code",
   "execution_count": null,
   "id": "0ce03d38-db86-49c2-a60d-46d312ad60f8",
   "metadata": {
    "tags": [
     "raises-exception"
    ]
   },
   "outputs": [],
   "source": [
    "xr.apply_ufunc(\n",
    "    interp1d_np,  # first the function\n",
    "    air.isel(time=0, lon=0),  # now arguments in the order expected by 'interp1_np'\n",
    "    air.lat,\n",
    "    newlat,\n",
    "    exclude_dims=set((\"lat\",)),  # dimensions allowed to change size. Must be set!\n",
    ")"
   ]
  },
  {
   "cell_type": "markdown",
   "id": "79db343e-efcc-4fa5-a2ec-1da91bc93225",
   "metadata": {
    "user_expressions": []
   },
   "source": [
    "## Core dimensions\n",
    "\n"
   ]
  },
  {
   "cell_type": "markdown",
   "id": "e7c81b20-83a1-4575-8e9f-bf929ecc66ba",
   "metadata": {
    "user_expressions": []
   },
   "source": [
    "Core dimensions are central to using `apply_ufunc`. In our case, our function expects to receive a 1D vector along `lat` &#x2014; this is the dimension that is \"core\" to the function's functionality. Multiple core dimensions are possible. `apply_ufunc` needs to know which dimensions of each variable are core dimensions.\n",
    "\n",
    "    input_core_dims : Sequence[Sequence], optional\n",
    "        List of the same length as ``args`` giving the list of core dimensions\n",
    "        on each input argument that should not be broadcast. By default, we\n",
    "        assume there are no core dimensions on any input arguments.\n",
    "\n",
    "        For example, ``input_core_dims=[[], ['time']]`` indicates that all\n",
    "        dimensions on the first argument and all dimensions other than 'time'\n",
    "        on the second argument should be broadcast.\n",
    "\n",
    "        Core dimensions are automatically moved to the last axes of input\n",
    "        variables before applying ``func``, which facilitates using NumPy style\n",
    "        generalized ufuncs [2]_.\n",
    "        \n",
    "    output_core_dims : List[tuple], optional\n",
    "        List of the same length as the number of output arguments from\n",
    "        ``func``, giving the list of core dimensions on each output that were\n",
    "        not broadcast on the inputs. By default, we assume that ``func``\n",
    "        outputs exactly one array, with axes corresponding to each broadcast\n",
    "        dimension.\n",
    "\n",
    "        Core dimensions are assumed to appear as the last dimensions of each\n",
    "        output in the provided order.\n",
    "        \n",
    "Next we specify `\"lat\"` as `input_core_dims` on both `air` and `air.lat`"
   ]
  },
  {
   "cell_type": "code",
   "execution_count": null,
   "id": "2ced88c6-84ca-4294-9ed6-479ee353b3c8",
   "metadata": {
    "tags": [
     "raises-exception"
    ]
   },
   "outputs": [],
   "source": [
    "xr.apply_ufunc(\n",
    "    interp1d_np,  # first the function\n",
    "    air.isel(time=0, lon=0),  # now arguments in the order expected by 'interp1_np'\n",
    "    air.lat,\n",
    "    newlat,\n",
    "    input_core_dims=[[\"lat\"], [\"lat\"], []],\n",
    "    exclude_dims=set((\"lat\",)),  # dimensions allowed to change size. Must be set!\n",
    ")"
   ]
  },
  {
   "cell_type": "markdown",
   "id": "cb20872d-06ae-400d-ada7-443ce6fa02a4",
   "metadata": {
    "user_expressions": []
   },
   "source": [
    "xarray is telling us that it expected to receive back a numpy array with 0 dimensions but instead received an array with 1 dimension corresponding to `newlat`. We can fix this by specifying `output_core_dims`"
   ]
  },
  {
   "cell_type": "code",
   "execution_count": null,
   "id": "b3957ac5-c622-41f9-b774-5527693d370e",
   "metadata": {},
   "outputs": [],
   "source": [
    "xr.apply_ufunc(\n",
    "    interp1d_np,  # first the function\n",
    "    air.isel(time=0, lon=0),  # now arguments in the order expected by 'interp1_np'\n",
    "    air.lat,\n",
    "    newlat,\n",
    "    input_core_dims=[[\"lat\"], [\"lat\"], []],  # list with one entry per arg\n",
    "    output_core_dims=[[\"lat\"]],\n",
    "    exclude_dims=set((\"lat\",)),  # dimensions allowed to change size. Must be set!\n",
    ")"
   ]
  },
  {
   "cell_type": "markdown",
   "id": "60cc2c23-bdf9-41f1-a09a-a6df8531fd21",
   "metadata": {
    "user_expressions": []
   },
   "source": [
    "Finally we get some output! Let's check that this is right\n",
    "\n"
   ]
  },
  {
   "cell_type": "code",
   "execution_count": null,
   "id": "d6778fe6-5433-4f8d-bb40-2fb41b78b574",
   "metadata": {},
   "outputs": [],
   "source": [
    "interped = xr.apply_ufunc(\n",
    "    interp1d_np,  # first the function\n",
    "    air.isel(time=0, lon=0),  # now arguments in the order expected by 'interp1_np'\n",
    "    air.lat,\n",
    "    newlat,\n",
    "    input_core_dims=[[\"lat\"], [\"lat\"], []],  # list with one entry per arg\n",
    "    output_core_dims=[[\"lat\"]],\n",
    "    exclude_dims=set((\"lat\",)),  # dimensions allowed to change size. Must be set!\n",
    ")\n",
    "interped[\"lat\"] = newlat  # need to add this manually\n",
    "xr.testing.assert_allclose(expected.isel(time=0, lon=0), interped)"
   ]
  },
  {
   "cell_type": "markdown",
   "id": "3c7ea6dd-260e-4315-9d6d-3dbe2af2538e",
   "metadata": {
    "user_expressions": []
   },
   "source": [
    "No errors are raised so it is right!"
   ]
  },
  {
   "cell_type": "markdown",
   "id": "3441f26d-8076-47a4-82c1-108c4c870cb9",
   "metadata": {
    "user_expressions": []
   },
   "source": [
    "## Vectorization with `np.vectorize`"
   ]
  },
  {
   "cell_type": "markdown",
   "id": "121aeb07-d444-4394-a4ef-9199dc2725a5",
   "metadata": {
    "user_expressions": []
   },
   "source": [
    "Now our function currently only works on one vector of data which is not so useful given our 3D dataset.\n",
    "Let's try passing the whole dataset. We add a `print` statement so we can see what our function receives."
   ]
  },
  {
   "cell_type": "code",
   "execution_count": null,
   "id": "9097c318-5114-4f00-a8e8-f85cdae39bf3",
   "metadata": {
    "tags": [
     "raises-exception"
    ]
   },
   "outputs": [],
   "source": [
    "def interp1d_np(data, x, xi):\n",
    "    print(f\"data: {data.shape} | x: {x.shape} | xi: {xi.shape}\")\n",
    "    return np.interp(xi, x, data)\n",
    "\n",
    "\n",
    "interped = xr.apply_ufunc(\n",
    "    interp1d_np,  # first the function\n",
    "    air.isel(lon=slice(3), time=slice(4)),  # now arguments in the order expected by 'interp1_np'\n",
    "    air.lat,\n",
    "    newlat,\n",
    "    input_core_dims=[[\"lat\"], [\"lat\"], []],  # list with one entry per arg\n",
    "    output_core_dims=[[\"lat\"]],\n",
    "    exclude_dims=set((\"lat\",)),  # dimensions allowed to change size. Must be set!\n",
    ")\n",
    "interped[\"lat\"] = newlat  # need to add this manually\n",
    "xr.testing.assert_allclose(expected.isel(time=0, lon=0), interped)"
   ]
  },
  {
   "cell_type": "markdown",
   "id": "f4873ac9-7000-4a0a-9d8f-e425e2bf2671",
   "metadata": {
    "tags": [],
    "user_expressions": []
   },
   "source": [
    "That's a hard-to-interpret error but our `print` call helpfully printed the shapes of the input data: \n",
    "\n",
    "    data: (10, 53, 25) | x: (25,) | xi: (100,)\n",
    "\n",
    "We see that `air` has been passed as a 3D numpy array which is not what `np.interp` expects. Instead we want loop over all combinations of `lon` and `time`; and apply our function to each corresponding vector of data along `lat`.\n",
    "`apply_ufunc` makes this easy by specifying `vectorize=True`:\n",
    "\n",
    "    vectorize : bool, optional\n",
    "        If True, then assume ``func`` only takes arrays defined over core\n",
    "        dimensions as input and vectorize it automatically with\n",
    "        :py:func:`numpy.vectorize`. This option exists for convenience, but is\n",
    "        almost always slower than supplying a pre-vectorized function.\n",
    "        Using this option requires NumPy version 1.12 or newer.\n",
    "        \n",
    "\n",
    "```{warning}\n",
    "Also see the numpy documentation for [vectorize](https://numpy.org/doc/stable/reference/generated/numpy.vectorize.html). Most importantly\n",
    "\n",
    "    The vectorize function is provided primarily for convenience, not for performance. \n",
    "    The implementation is essentially a for loop.\n",
    "```"
   ]
  },
  {
   "cell_type": "code",
   "execution_count": null,
   "id": "7f8d8f74-3282-403d-8cce-7434780b29a3",
   "metadata": {
    "tags": [
     "raises-exception"
    ]
   },
   "outputs": [],
   "source": [
    "def interp1d_np(data, x, xi):\n",
    "    print(f\"data: {data.shape} | x: {x.shape} | xi: {xi.shape}\")\n",
    "    return np.interp(xi, x, data)\n",
    "\n",
    "\n",
    "interped = xr.apply_ufunc(\n",
    "    interp1d_np,  # first the function\n",
    "    air,  # now arguments in the order expected by 'interp1_np'\n",
    "    air.lat,  # as above\n",
    "    newlat,  # as above\n",
    "    input_core_dims=[[\"lat\"], [\"lat\"], []],  # list with one entry per arg\n",
    "    output_core_dims=[[\"lat\"]],  # returned data has one dimension\n",
    "    exclude_dims=set((\"lat\",)),  # dimensions allowed to change size. Must be set!\n",
    "    vectorize=True,  # loop over non-core dims\n",
    ")\n",
    "interped[\"lat\"] = newlat  # need to add this manually\n",
    "xr.testing.assert_allclose(expected, interped)"
   ]
  },
  {
   "cell_type": "markdown",
   "id": "a0e1347f-3473-4fb6-9506-de46e314ba8c",
   "metadata": {
    "user_expressions": []
   },
   "source": [
    "This unfortunately is another cryptic error from numpy. \n",
    "\n",
    "Notice that `newlat` is not an xarray object. Let's add a dimension name `new_lat` and modify the call. Note this cannot be `lat` because xarray expects dimensions to be the same size (or broadcastable) among all inputs. `output_core_dims` needs to be modified appropriately. We'll manually rename `new_lat` back to `lat` for easy checking."
   ]
  },
  {
   "cell_type": "code",
   "execution_count": null,
   "id": "add52a3e-6c10-4761-ad39-101a58cda921",
   "metadata": {},
   "outputs": [],
   "source": [
    "def interp1d_np(data, x, xi):\n",
    "    print(f\"data: {data.shape} | x: {x.shape} | xi: {xi.shape}\")\n",
    "    return np.interp(xi, x, data)\n",
    "\n",
    "\n",
    "interped = xr.apply_ufunc(\n",
    "    interp1d_np,  # first the function\n",
    "    air,  # now arguments in the order expected by 'interp1_np'\n",
    "    air.lat,  # as above\n",
    "    newlat,  # as above\n",
    "    input_core_dims=[[\"lat\"], [\"lat\"], [\"new_lat\"]],  # list with one entry per arg\n",
    "    output_core_dims=[[\"new_lat\"]],  # returned data has one dimension\n",
    "    exclude_dims=set((\"lat\",)),  # dimensions allowed to change size. Must be a set!\n",
    "    vectorize=True,  # loop over non-core dims\n",
    ")\n",
    "interped = interped.rename({\"new_lat\": \"lat\"})\n",
    "interped[\"lat\"] = newlat  # need to add this manually\n",
    "xr.testing.assert_allclose(\n",
    "    expected.transpose(*interped.dims), interped  # order of dims is different\n",
    ")\n",
    "interped"
   ]
  },
  {
   "cell_type": "markdown",
   "id": "d81f399e-1649-4d4b-ad28-81cba8403210",
   "metadata": {
    "tags": [],
    "user_expressions": []
   },
   "source": [
    "Notice that the printed input shapes are all 1D and correspond to one vector along the `lat` dimension.\n",
    "\n",
    "The result is now an xarray object with coordinate values copied over from `data`. This is why `apply_ufunc` is so convenient; it takes care of a lot of boilerplate necessary to apply functions that consume and produce numpy arrays to xarray objects.\n",
    "\n",
    "One final point: `lat` is now the *last* dimension in `interped`. This is a \"property\" of core dimensions: they are moved to the end before being sent to `interp1d_np` as was noted in the docstring for `input_core_dims`\n",
    "\n",
    "        Core dimensions are automatically moved to the last axes of input\n",
    "        variables before applying ``func``, which facilitates using NumPy style\n",
    "        generalized ufuncs [2]_."
   ]
  }
 ],
 "metadata": {
  "language_info": {
   "codemirror_mode": {
    "name": "ipython",
    "version": 3
   },
   "file_extension": ".py",
   "mimetype": "text/x-python",
   "name": "python",
   "nbconvert_exporter": "python",
   "pygments_lexer": "ipython3"
  }
 },
 "nbformat": 4,
 "nbformat_minor": 5
}
